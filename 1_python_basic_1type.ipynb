{
  "nbformat": 4,
  "nbformat_minor": 0,
  "metadata": {
    "colab": {
      "provenance": [],
      "toc_visible": true
    },
    "kernelspec": {
      "name": "python3",
      "display_name": "Python 3"
    },
    "language_info": {
      "name": "python"
    }
  },
  "cells": [
    {
      "cell_type": "markdown",
      "source": [
        "# **Chapter 1. 파이썬 기본 문법**"
      ],
      "metadata": {
        "id": "nHcOnSJfzaMx"
      }
    },
    {
      "cell_type": "markdown",
      "source": [
        "## 1. 파이썬이란?"
      ],
      "metadata": {
        "id": "VlxAG5wKzrSm"
      }
    },
    {
      "cell_type": "markdown",
      "source": [
        "### (1) 파이썬 개요"
      ],
      "metadata": {
        "id": "Z64yqSjk2BAc"
      }
    },
    {
      "cell_type": "markdown",
      "source": [
        "### (2) 파이썬 특징"
      ],
      "metadata": {
        "id": "BHad9D3_2C7D"
      }
    },
    {
      "cell_type": "markdown",
      "source": [
        "## 2. 파이썬 실습 준비하기"
      ],
      "metadata": {
        "id": "bvJK0Lnazt_P"
      }
    },
    {
      "cell_type": "markdown",
      "source": [
        "### (1) 실습 환경 구성"
      ],
      "metadata": {
        "id": "-Qp2pf9O2F4d"
      }
    },
    {
      "cell_type": "markdown",
      "source": [
        "### (2) Google Colab 둘러보기"
      ],
      "metadata": {
        "id": "Qh5H9pTt2HeS"
      }
    },
    {
      "cell_type": "markdown",
      "source": [
        "### (3) Github & Colab 환경 구성"
      ],
      "metadata": {
        "id": "pBoei4GMYPSz"
      }
    },
    {
      "cell_type": "markdown",
      "source": [
        "#### 123-01 소스 및 데이터 동기화"
      ],
      "metadata": {
        "id": "vsoHppZWUSQS"
      }
    },
    {
      "cell_type": "code",
      "source": [
        "!git clone https://github.com/idjoopal/25_fall_DAAI/"
      ],
      "metadata": {
        "colab": {
          "base_uri": "https://localhost:8080/"
        },
        "id": "IlN-naU0UaAD",
        "outputId": "9c4d8f51-3869-45ae-e073-7d11424f487d"
      },
      "execution_count": 1,
      "outputs": [
        {
          "output_type": "stream",
          "name": "stdout",
          "text": [
            "Cloning into '25_fall_DAAI'...\n",
            "remote: Enumerating objects: 9, done.\u001b[K\n",
            "remote: Counting objects: 100% (9/9), done.\u001b[K\n",
            "remote: Compressing objects: 100% (7/7), done.\u001b[K\n",
            "remote: Total 9 (delta 4), reused 7 (delta 2), pack-reused 0 (from 0)\u001b[K\n",
            "Receiving objects: 100% (9/9), 28.87 KiB | 2.22 MiB/s, done.\n",
            "Resolving deltas: 100% (4/4), done.\n"
          ]
        }
      ]
    },
    {
      "cell_type": "markdown",
      "source": [
        "## 3. 파이썬 자료형"
      ],
      "metadata": {
        "id": "oHRETlrfz0BT"
      }
    },
    {
      "cell_type": "markdown",
      "source": [
        "### (1) 숫자형"
      ],
      "metadata": {
        "id": "tRHEdKUIz7OR"
      }
    },
    {
      "cell_type": "markdown",
      "source": [
        "#### 131-01 정수형 + 실수형"
      ],
      "metadata": {
        "id": "v-jUHt_7uBWn"
      }
    },
    {
      "cell_type": "code",
      "execution_count": 2,
      "metadata": {
        "colab": {
          "base_uri": "https://localhost:8080/"
        },
        "id": "iH_9vsFrzZZL",
        "outputId": "b13aaeb5-1497-4e6c-9300-03e12dc40ab5"
      },
      "outputs": [
        {
          "output_type": "stream",
          "name": "stdout",
          "text": [
            "1234 -12.34\n",
            "<class 'int'> <class 'float'>\n",
            "1221.66\n",
            "<class 'float'>\n"
          ]
        }
      ],
      "source": [
        "a = 1234\n",
        "b = -12.34\n",
        "c = a + b\n",
        "\n",
        "print(a, b)\n",
        "print(type(a), type(b))\n",
        "print(c)\n",
        "print(type(c))"
      ]
    },
    {
      "cell_type": "markdown",
      "source": [
        "#### 131-02 사칙연산 기능"
      ],
      "metadata": {
        "id": "sWMXEayDuc52"
      }
    },
    {
      "cell_type": "code",
      "source": [
        "a = 3\n",
        "b = 7\n",
        "\n",
        "# 사칙연산\n",
        "print(a + b)\n",
        "print(a - b)\n",
        "print(a * b)\n",
        "print(a / b)\n",
        "\n",
        "# a의 b 제곱\n",
        "print(a ** b)\n",
        "\n",
        "# a 나누기 b의 나머지\n",
        "print(a % b)\n",
        "\n",
        "# a 나누기 b의 몫\n",
        "print(a // b)"
      ],
      "metadata": {
        "colab": {
          "base_uri": "https://localhost:8080/"
        },
        "id": "DDAqTH7p0DQg",
        "outputId": "bc86d985-5596-4457-b799-de0486d5a199"
      },
      "execution_count": 3,
      "outputs": [
        {
          "output_type": "stream",
          "name": "stdout",
          "text": [
            "10\n",
            "-4\n",
            "21\n",
            "0.42857142857142855\n",
            "2187\n",
            "3\n",
            "0\n"
          ]
        }
      ]
    },
    {
      "cell_type": "markdown",
      "source": [
        "### (2) 문자열 자료형"
      ],
      "metadata": {
        "id": "aRLGCbPM12NZ"
      }
    },
    {
      "cell_type": "markdown",
      "source": [
        "#### 132-01 문자열 자료형"
      ],
      "metadata": {
        "id": "Lpq9c_6bz5vA"
      }
    },
    {
      "cell_type": "code",
      "source": [
        "a = \"Hello World\"\n",
        "b = \"Hello Python's World\"\n",
        "c = '\"Hello World.\" he says.'\n",
        "d = \"Hello World\\nLife is good\"\n",
        "\n",
        "print(a)\n",
        "print(b)\n",
        "print(c)\n",
        "print(d)"
      ],
      "metadata": {
        "id": "Hlxq_ngH1MHm",
        "colab": {
          "base_uri": "https://localhost:8080/"
        },
        "outputId": "5aecaf97-f3aa-4986-9bc1-fc0c81bb5620"
      },
      "execution_count": 4,
      "outputs": [
        {
          "output_type": "stream",
          "name": "stdout",
          "text": [
            "Hello World\n",
            "Hello Python's World\n",
            "\"Hello World.\" he says.\n",
            "Hello World\n",
            "Life is good\n"
          ]
        }
      ]
    },
    {
      "cell_type": "markdown",
      "source": [
        "####132-02 문자열 더하기"
      ],
      "metadata": {
        "id": "g1fwGH-D2mSX"
      }
    },
    {
      "cell_type": "code",
      "source": [
        "a = \"Python\"\n",
        "b = \" \"\n",
        "c = \"is good.\"\n",
        "\n",
        "print(a + b + c)"
      ],
      "metadata": {
        "colab": {
          "base_uri": "https://localhost:8080/"
        },
        "id": "Xd_GaCmo1NuG",
        "outputId": "c9b2905a-c0f9-4721-ad78-00b53522d064"
      },
      "execution_count": 5,
      "outputs": [
        {
          "output_type": "stream",
          "name": "stdout",
          "text": [
            "Python is good.\n"
          ]
        }
      ]
    },
    {
      "cell_type": "markdown",
      "source": [
        "####132-03 문자열 곱하기"
      ],
      "metadata": {
        "id": "XA--zT-r3dSM"
      }
    },
    {
      "cell_type": "code",
      "source": [
        "a = \"Python\"\n",
        "\n",
        "print(a*3)"
      ],
      "metadata": {
        "colab": {
          "base_uri": "https://localhost:8080/"
        },
        "id": "5-iEfrDv20a2",
        "outputId": "121a08c9-6779-4815-a9da-649f39247ad0"
      },
      "execution_count": 6,
      "outputs": [
        {
          "output_type": "stream",
          "name": "stdout",
          "text": [
            "PythonPythonPython\n"
          ]
        }
      ]
    },
    {
      "cell_type": "markdown",
      "source": [
        "####132-04 문자열 길이 구하기"
      ],
      "metadata": {
        "id": "LrXLn1Qj3ya8"
      }
    },
    {
      "cell_type": "code",
      "source": [
        "a = \"Life is short, Python is valuable\"\n",
        "b = len(a)\n",
        "\n",
        "print(b)"
      ],
      "metadata": {
        "colab": {
          "base_uri": "https://localhost:8080/"
        },
        "id": "zLo0ShGY3ixO",
        "outputId": "9b6d6122-daec-4361-ba89-72251f6a7522"
      },
      "execution_count": 7,
      "outputs": [
        {
          "output_type": "stream",
          "name": "stdout",
          "text": [
            "33\n"
          ]
        }
      ]
    },
    {
      "cell_type": "markdown",
      "source": [
        "####132-05 문자열 인덱싱"
      ],
      "metadata": {
        "id": "tvdIs2c64xCq"
      }
    },
    {
      "cell_type": "code",
      "source": [
        "a = \"Life is short, Python is valuable\"\n",
        "b = a[0]\n",
        "c = a[10]\n",
        "d = a[-8]\n",
        "e = a[-1]\n",
        "\n",
        "print(b + c + d + e)"
      ],
      "metadata": {
        "colab": {
          "base_uri": "https://localhost:8080/"
        },
        "id": "E0PJisWz4jVb",
        "outputId": "79b71056-371d-4e95-f764-276cfd8eb838"
      },
      "execution_count": 8,
      "outputs": [
        {
          "output_type": "stream",
          "name": "stdout",
          "text": [
            "Love\n"
          ]
        }
      ]
    },
    {
      "cell_type": "markdown",
      "source": [
        "####132-06 문자열 슬라이싱"
      ],
      "metadata": {
        "id": "03qpb4u77tWF"
      }
    },
    {
      "cell_type": "code",
      "source": [
        "a = \"Life is short, Python is valuable\"\n",
        "b = a[:4]\n",
        "c = a[4:8]\n",
        "d = a[25:]\n",
        "\n",
        "print(b + c + d)"
      ],
      "metadata": {
        "colab": {
          "base_uri": "https://localhost:8080/"
        },
        "id": "cfjP4vCE6Gi1",
        "outputId": "db1b2bc1-bb7f-4908-df4d-f8b2a81b2c5d"
      },
      "execution_count": 9,
      "outputs": [
        {
          "output_type": "stream",
          "name": "stdout",
          "text": [
            "Life is valuable\n"
          ]
        }
      ]
    },
    {
      "cell_type": "markdown",
      "source": [
        "####132-07 문자 개수 세기"
      ],
      "metadata": {
        "id": "bn_KlTjE-LHA"
      }
    },
    {
      "cell_type": "code",
      "source": [
        "a = \"apple\"\n",
        "b = a.count('p')\n",
        "\n",
        "print(b)"
      ],
      "metadata": {
        "colab": {
          "base_uri": "https://localhost:8080/"
        },
        "id": "wt0fMJy18gWO",
        "outputId": "c87cbbde-e25b-4dce-9203-e3761e1b2f05"
      },
      "execution_count": 10,
      "outputs": [
        {
          "output_type": "stream",
          "name": "stdout",
          "text": [
            "2\n"
          ]
        }
      ]
    },
    {
      "cell_type": "markdown",
      "source": [
        "####132-08 문자 위치 찾기"
      ],
      "metadata": {
        "id": "wZmrnyk9_czI"
      }
    },
    {
      "cell_type": "code",
      "source": [
        "a = \"apple\"\n",
        "b = a.find('p')\n",
        "\n",
        "print(b)"
      ],
      "metadata": {
        "colab": {
          "base_uri": "https://localhost:8080/"
        },
        "id": "2x16bCiL9kFB",
        "outputId": "7f49a4ff-b172-4c31-f427-7ecbc5c2ad5d"
      },
      "execution_count": 11,
      "outputs": [
        {
          "output_type": "stream",
          "name": "stdout",
          "text": [
            "1\n"
          ]
        }
      ]
    },
    {
      "cell_type": "markdown",
      "source": [
        "####132-09 문자열 삽입"
      ],
      "metadata": {
        "id": "-vc_XIoP_rp-"
      }
    },
    {
      "cell_type": "code",
      "source": [
        "a = \"apple\"\n",
        "b = ','.join(a)\n",
        "\n",
        "print(b)"
      ],
      "metadata": {
        "colab": {
          "base_uri": "https://localhost:8080/"
        },
        "id": "k9Cj5lLl_jIA",
        "outputId": "c9e4cd34-c36a-4f46-d23d-c56a6b8e75db"
      },
      "execution_count": 12,
      "outputs": [
        {
          "output_type": "stream",
          "name": "stdout",
          "text": [
            "a,p,p,l,e\n"
          ]
        }
      ]
    },
    {
      "cell_type": "markdown",
      "source": [
        "####132-10 소문자와 대문자 바꾸기"
      ],
      "metadata": {
        "id": "tu0YI6NLAKGI"
      }
    },
    {
      "cell_type": "code",
      "source": [
        "a = \"apple\"\n",
        "b = a.upper()\n",
        "c = b.lower()\n",
        "\n",
        "print(b)\n",
        "print(c)"
      ],
      "metadata": {
        "colab": {
          "base_uri": "https://localhost:8080/"
        },
        "id": "dACsB34tANEW",
        "outputId": "08bc1cce-317c-4292-c3e4-4e55c3cc0bf6"
      },
      "execution_count": 13,
      "outputs": [
        {
          "output_type": "stream",
          "name": "stdout",
          "text": [
            "APPLE\n",
            "apple\n"
          ]
        }
      ]
    },
    {
      "cell_type": "markdown",
      "source": [
        "####132-11 공백 지우기"
      ],
      "metadata": {
        "id": "OJY1AA-HArb1"
      }
    },
    {
      "cell_type": "code",
      "source": [
        "a = \" apple \"\n",
        "b = a.lstrip()\n",
        "c = a.rstrip()\n",
        "d = a.strip()\n",
        "\n",
        "print(b)\n",
        "print(c)\n",
        "print(d)"
      ],
      "metadata": {
        "colab": {
          "base_uri": "https://localhost:8080/"
        },
        "id": "UpOFQSeDASJp",
        "outputId": "d8ba6554-d96e-4b38-ae81-c459b5aebade"
      },
      "execution_count": 14,
      "outputs": [
        {
          "output_type": "stream",
          "name": "stdout",
          "text": [
            "apple \n",
            " apple\n",
            "apple\n"
          ]
        }
      ]
    },
    {
      "cell_type": "markdown",
      "source": [
        "####132-12 문자열 바꾸기"
      ],
      "metadata": {
        "id": "Tvxk4GQrBLX9"
      }
    },
    {
      "cell_type": "code",
      "source": [
        "a = \"Life is good\"\n",
        "b = a.replace(\"Life\", \"Python\")\n",
        "\n",
        "print(b)"
      ],
      "metadata": {
        "colab": {
          "base_uri": "https://localhost:8080/"
        },
        "id": "ypB_gl81A3cA",
        "outputId": "7f26ddc0-33f4-4a77-b9c2-f02638c3ddfd"
      },
      "execution_count": 15,
      "outputs": [
        {
          "output_type": "stream",
          "name": "stdout",
          "text": [
            "Python is good\n"
          ]
        }
      ]
    },
    {
      "cell_type": "markdown",
      "source": [
        "####132-13 문자열 나누기"
      ],
      "metadata": {
        "id": "QZj8uMdsBh07"
      }
    },
    {
      "cell_type": "code",
      "source": [
        "a = \"Life is short, Python is valuable\"\n",
        "b = a.split()\n",
        "c = a.split(',')\n",
        "\n",
        "print(b)\n",
        "print(c)"
      ],
      "metadata": {
        "colab": {
          "base_uri": "https://localhost:8080/"
        },
        "id": "q0E-3QGxBXKI",
        "outputId": "c45ece55-c943-4e0d-a487-57db1dd90a25"
      },
      "execution_count": 16,
      "outputs": [
        {
          "output_type": "stream",
          "name": "stdout",
          "text": [
            "['Life', 'is', 'short,', 'Python', 'is', 'valuable']\n",
            "['Life is short', ' Python is valuable']\n"
          ]
        }
      ]
    },
    {
      "cell_type": "markdown",
      "source": [
        "###(3) 리스트 자료형"
      ],
      "metadata": {
        "id": "N7lU0zhLFHI5"
      }
    },
    {
      "cell_type": "markdown",
      "source": [
        "####133-01 리스트 기본 연산"
      ],
      "metadata": {
        "id": "GTs0DA8NI-iI"
      }
    },
    {
      "cell_type": "code",
      "source": [
        "a = [1, 2, 3, 4, 5]\n",
        "b = ['a', 'b', 'c']\n",
        "c = a * 2 + b\n",
        "d = len(c)\n",
        "\n",
        "print(c)\n",
        "print(d)"
      ],
      "metadata": {
        "colab": {
          "base_uri": "https://localhost:8080/"
        },
        "id": "dTRCqgrmJMrc",
        "outputId": "78af8762-e30c-42f5-d5ed-813d80d5f888"
      },
      "execution_count": 17,
      "outputs": [
        {
          "output_type": "stream",
          "name": "stdout",
          "text": [
            "[1, 2, 3, 4, 5, 1, 2, 3, 4, 5, 'a', 'b', 'c']\n",
            "13\n"
          ]
        }
      ]
    },
    {
      "cell_type": "markdown",
      "source": [
        "####133-02 리스트 인덱싱과 슬라이싱"
      ],
      "metadata": {
        "id": "ihHY0gwSGDHE"
      }
    },
    {
      "cell_type": "code",
      "source": [
        "a = [1, 2, 3, 4, 5]\n",
        "\n",
        "print(a)\n",
        "print(a[0])\n",
        "print(a[1:4])\n",
        "print(a[-1])\n",
        "print(a[4])\n",
        "print(a[2:])\n",
        "print(a[2:5])\n",
        "print(a[:3])\n",
        "print(a[0:3])"
      ],
      "metadata": {
        "colab": {
          "base_uri": "https://localhost:8080/"
        },
        "id": "Togi0VbwGI20",
        "outputId": "6cd1db84-8811-408f-f06e-d1ced46be7c6"
      },
      "execution_count": 18,
      "outputs": [
        {
          "output_type": "stream",
          "name": "stdout",
          "text": [
            "[1, 2, 3, 4, 5]\n",
            "1\n",
            "[2, 3, 4]\n",
            "5\n",
            "5\n",
            "[3, 4, 5]\n",
            "[3, 4, 5]\n",
            "[1, 2, 3]\n",
            "[1, 2, 3]\n"
          ]
        }
      ]
    },
    {
      "cell_type": "markdown",
      "source": [
        "####133-03 중첩된 리스트 인덱싱과 슬라이싱"
      ],
      "metadata": {
        "id": "mSZRjP0YHrle"
      }
    },
    {
      "cell_type": "code",
      "source": [
        "a = [1, 2, 3, ['a', 'b', 'c']]\n",
        "\n",
        "print(a)\n",
        "print(a[3])\n",
        "print(a[3][0])\n",
        "print(a[3][1:])\n",
        "print(a[3][:1])"
      ],
      "metadata": {
        "colab": {
          "base_uri": "https://localhost:8080/"
        },
        "id": "GkU4agCnHpp4",
        "outputId": "4bda33cc-b584-49dd-dda3-6915d42ac656"
      },
      "execution_count": 19,
      "outputs": [
        {
          "output_type": "stream",
          "name": "stdout",
          "text": [
            "[1, 2, 3, ['a', 'b', 'c']]\n",
            "['a', 'b', 'c']\n",
            "a\n",
            "['b', 'c']\n",
            "['a']\n"
          ]
        }
      ]
    },
    {
      "cell_type": "markdown",
      "source": [
        "####133-04 리스트 요소의 수정과 삭제"
      ],
      "metadata": {
        "id": "Aqz8IwLcJ1VD"
      }
    },
    {
      "cell_type": "code",
      "source": [
        "a = [1, 2, 3, 4, 5]\n",
        "a[2] = 10\n",
        "del a[4]\n",
        "\n",
        "print(a)"
      ],
      "metadata": {
        "colab": {
          "base_uri": "https://localhost:8080/"
        },
        "id": "gA8yCc8bK_S0",
        "outputId": "3fe64b6f-0b7a-4d57-d1d4-f98ab9a88bf9"
      },
      "execution_count": 20,
      "outputs": [
        {
          "output_type": "stream",
          "name": "stdout",
          "text": [
            "[1, 2, 10, 4]\n"
          ]
        }
      ]
    },
    {
      "cell_type": "markdown",
      "source": [
        "####133-05 리스트 요소 추가"
      ],
      "metadata": {
        "id": "Y3PpNEDhLWxX"
      }
    },
    {
      "cell_type": "code",
      "source": [
        "a = [1, 2, 3]\n",
        "a.append(10)\n",
        "\n",
        "print(a)"
      ],
      "metadata": {
        "colab": {
          "base_uri": "https://localhost:8080/"
        },
        "id": "TIJu0EcmLWaB",
        "outputId": "a22cc754-7605-4a92-bdda-0dd05aa34126"
      },
      "execution_count": 21,
      "outputs": [
        {
          "output_type": "stream",
          "name": "stdout",
          "text": [
            "[1, 2, 3, 10]\n"
          ]
        }
      ]
    },
    {
      "cell_type": "markdown",
      "source": [
        "####133-06 리스트 정렬"
      ],
      "metadata": {
        "id": "zKZBUBPGLsE6"
      }
    },
    {
      "cell_type": "code",
      "source": [
        "a = [1, 5, 2, 4, 3]\n",
        "a.sort()\n",
        "\n",
        "print(a)"
      ],
      "metadata": {
        "colab": {
          "base_uri": "https://localhost:8080/"
        },
        "id": "T3ivn9WTLvm6",
        "outputId": "e7592acd-6971-464f-cdb2-f57943995101"
      },
      "execution_count": 22,
      "outputs": [
        {
          "output_type": "stream",
          "name": "stdout",
          "text": [
            "[1, 2, 3, 4, 5]\n"
          ]
        }
      ]
    },
    {
      "cell_type": "markdown",
      "source": [
        "####133-07 리스트 요소의 위치 반환"
      ],
      "metadata": {
        "id": "NQuc3bpMMReo"
      }
    },
    {
      "cell_type": "code",
      "source": [
        "a = [5, 4, 3, 2, 1]\n",
        "b = a.index(3)\n",
        "c = a.index(5)\n",
        "\n",
        "print(b)\n",
        "print(c)"
      ],
      "metadata": {
        "colab": {
          "base_uri": "https://localhost:8080/"
        },
        "id": "46yHorVCM1-H",
        "outputId": "c2a4d9a0-07d4-40f6-b6ce-00aed019fcce"
      },
      "execution_count": 23,
      "outputs": [
        {
          "output_type": "stream",
          "name": "stdout",
          "text": [
            "2\n",
            "0\n"
          ]
        }
      ]
    },
    {
      "cell_type": "markdown",
      "source": [
        "####133-08 리스트 요소 삽입"
      ],
      "metadata": {
        "id": "zrzdKyBmNuyX"
      }
    },
    {
      "cell_type": "code",
      "source": [
        "a = [1, 2, 3]\n",
        "a.insert(0, 10)\n",
        "\n",
        "print(a)"
      ],
      "metadata": {
        "colab": {
          "base_uri": "https://localhost:8080/"
        },
        "id": "0dKWynEPOIVw",
        "outputId": "970637e2-04d8-48b1-80b7-898befa88f23"
      },
      "execution_count": 24,
      "outputs": [
        {
          "output_type": "stream",
          "name": "stdout",
          "text": [
            "[10, 1, 2, 3]\n"
          ]
        }
      ]
    },
    {
      "cell_type": "markdown",
      "source": [
        "####133-09 리스트 요소 제거"
      ],
      "metadata": {
        "id": "DCPQ5rlfNxUD"
      }
    },
    {
      "cell_type": "code",
      "source": [
        "a = [5, 4, 3, 2, 1, 5, 4, 3, 2, 1]\n",
        "a.remove(4)\n",
        "\n",
        "print(a)"
      ],
      "metadata": {
        "colab": {
          "base_uri": "https://localhost:8080/"
        },
        "id": "atxVTDlxOcXZ",
        "outputId": "a15a76ef-ff28-4c63-d650-287ec11e8d93"
      },
      "execution_count": 25,
      "outputs": [
        {
          "output_type": "stream",
          "name": "stdout",
          "text": [
            "[5, 3, 2, 1, 5, 4, 3, 2, 1]\n"
          ]
        }
      ]
    },
    {
      "cell_type": "markdown",
      "source": [
        "####133-10 리스트 요소 뽑기"
      ],
      "metadata": {
        "id": "d429PWgyNzIr"
      }
    },
    {
      "cell_type": "code",
      "source": [
        "a = [5, 4, 3, 2, 1, 5, 4, 3, 2, 1]\n",
        "b = a.pop(1)\n",
        "\n",
        "print(a)\n",
        "print(b)"
      ],
      "metadata": {
        "colab": {
          "base_uri": "https://localhost:8080/"
        },
        "id": "yhZAwZzVO2ns",
        "outputId": "6f84d9c4-2d83-436e-eef4-0c8d534692b8"
      },
      "execution_count": 26,
      "outputs": [
        {
          "output_type": "stream",
          "name": "stdout",
          "text": [
            "[5, 3, 2, 1, 5, 4, 3, 2, 1]\n",
            "4\n"
          ]
        }
      ]
    },
    {
      "cell_type": "markdown",
      "source": [
        "####133-11 리스트 요소 개수 세기"
      ],
      "metadata": {
        "id": "YNYziNIvOGnF"
      }
    },
    {
      "cell_type": "code",
      "source": [
        "a = [5, 4, 3, 2, 1, 5, 4, 3, 2, 1]\n",
        "b = a.count(1)\n",
        "\n",
        "print(b)"
      ],
      "metadata": {
        "colab": {
          "base_uri": "https://localhost:8080/"
        },
        "id": "6KYg8n1fPPWx",
        "outputId": "22b354b6-8dd2-4353-f4de-5b225e27e592"
      },
      "execution_count": 27,
      "outputs": [
        {
          "output_type": "stream",
          "name": "stdout",
          "text": [
            "2\n"
          ]
        }
      ]
    },
    {
      "cell_type": "markdown",
      "source": [
        "###(4) 튜플 자료형"
      ],
      "metadata": {
        "id": "uMSVZ9VYFNje"
      }
    },
    {
      "cell_type": "markdown",
      "source": [
        "####134-01 튜플 기본 연산"
      ],
      "metadata": {
        "id": "YP0DJQY9SYg4"
      }
    },
    {
      "cell_type": "code",
      "source": [
        "a = (1, 2, 3, 4, 5)\n",
        "b = ('a', 'b', 'c')\n",
        "c = a * 2 + b\n",
        "d = len(c)\n",
        "\n",
        "print(c)\n",
        "print(d)"
      ],
      "metadata": {
        "colab": {
          "base_uri": "https://localhost:8080/"
        },
        "id": "7nNmynhUSbYI",
        "outputId": "facaea42-f736-46e0-efec-a8325595be34"
      },
      "execution_count": 28,
      "outputs": [
        {
          "output_type": "stream",
          "name": "stdout",
          "text": [
            "(1, 2, 3, 4, 5, 1, 2, 3, 4, 5, 'a', 'b', 'c')\n",
            "13\n"
          ]
        }
      ]
    },
    {
      "cell_type": "markdown",
      "source": [
        "####134-02 튜플 인덱싱과 슬라이싱"
      ],
      "metadata": {
        "id": "vhCiKw4iRze_"
      }
    },
    {
      "cell_type": "code",
      "source": [
        "a = (1, 2, 3, 'a', 'b', 'c')\n",
        "\n",
        "print(a[0])\n",
        "print(a[3:])"
      ],
      "metadata": {
        "colab": {
          "base_uri": "https://localhost:8080/"
        },
        "id": "i046H_N7R6t4",
        "outputId": "56388a5f-fac1-439c-f915-acfe411d018c"
      },
      "execution_count": 29,
      "outputs": [
        {
          "output_type": "stream",
          "name": "stdout",
          "text": [
            "1\n",
            "('a', 'b', 'c')\n"
          ]
        }
      ]
    },
    {
      "cell_type": "markdown",
      "source": [
        "###(5) 딕셔너리 자료형"
      ],
      "metadata": {
        "id": "yWx7FN5dFYw7"
      }
    },
    {
      "cell_type": "markdown",
      "source": [
        "#### 135-01 딕셔너리 자료 구조"
      ],
      "metadata": {
        "id": "GKxvTgRjXucQ"
      }
    },
    {
      "cell_type": "code",
      "source": [
        "a = {'name':'John', 'age':30, 'birth':[11, 8]}\n",
        "\n",
        "print(a)\n",
        "print(a['name'])\n",
        "print(a['birth'])"
      ],
      "metadata": {
        "colab": {
          "base_uri": "https://localhost:8080/"
        },
        "id": "gVMLICCIXt1P",
        "outputId": "6f08070a-dfdf-401f-c1b9-bb12a8b510ec"
      },
      "execution_count": 30,
      "outputs": [
        {
          "output_type": "stream",
          "name": "stdout",
          "text": [
            "{'name': 'John', 'age': 30, 'birth': [11, 8]}\n",
            "John\n",
            "[11, 8]\n"
          ]
        }
      ]
    },
    {
      "cell_type": "markdown",
      "source": [
        "####135-02 딕셔너리 키-값 추가와 삭제"
      ],
      "metadata": {
        "id": "_oZqZZhkaqnT"
      }
    },
    {
      "cell_type": "code",
      "source": [
        "a = {'name':'John'}\n",
        "a['age'] = 30\n",
        "a['house'] = 'apartment'\n",
        "a['birth'] = [11, 8]\n",
        "del a['house']\n",
        "\n",
        "print(a)"
      ],
      "metadata": {
        "colab": {
          "base_uri": "https://localhost:8080/"
        },
        "id": "-KtX0t4XYwdp",
        "outputId": "7d01d263-bcbb-4c17-dabd-48c135312695"
      },
      "execution_count": 31,
      "outputs": [
        {
          "output_type": "stream",
          "name": "stdout",
          "text": [
            "{'name': 'John', 'age': 30, 'birth': [11, 8]}\n"
          ]
        }
      ]
    },
    {
      "cell_type": "markdown",
      "source": [
        "####135-03 딕셔너리 키 중복"
      ],
      "metadata": {
        "id": "ZWfbnuQ8awEK"
      }
    },
    {
      "cell_type": "code",
      "source": [
        "a = {'name':'John', 'name':'Park'}\n",
        "\n",
        "print(a)"
      ],
      "metadata": {
        "colab": {
          "base_uri": "https://localhost:8080/"
        },
        "id": "qht6D5eMayoB",
        "outputId": "39145909-013b-47d9-c9af-9705c09f54d6"
      },
      "execution_count": 32,
      "outputs": [
        {
          "output_type": "stream",
          "name": "stdout",
          "text": [
            "{'name': 'Park'}\n"
          ]
        }
      ]
    },
    {
      "cell_type": "markdown",
      "source": [
        "####135-04 딕셔너리 키 리스트 만들기"
      ],
      "metadata": {
        "id": "C_APq-WJdyJ1"
      }
    },
    {
      "cell_type": "code",
      "source": [
        "a = {'name':'John', 'age':30, 'birth':[11, 8]}\n",
        "b = a.keys()\n",
        "c = list(a.keys())\n",
        "\n",
        "print(b)\n",
        "print(c)"
      ],
      "metadata": {
        "colab": {
          "base_uri": "https://localhost:8080/"
        },
        "id": "b8FnEaDrd0Yd",
        "outputId": "ef7589ef-2f3d-4b70-ade3-3c476aca548d"
      },
      "execution_count": 33,
      "outputs": [
        {
          "output_type": "stream",
          "name": "stdout",
          "text": [
            "dict_keys(['name', 'age', 'birth'])\n",
            "['name', 'age', 'birth']\n"
          ]
        }
      ]
    },
    {
      "cell_type": "markdown",
      "source": [
        "####135-05 딕셔너리 값 리스트 만들기"
      ],
      "metadata": {
        "id": "K7GJ2uaBeO6C"
      }
    },
    {
      "cell_type": "code",
      "source": [
        "a = {'name':'John', 'age':30, 'birth':[11, 8]}\n",
        "b = a.values()\n",
        "c = list(a.values())\n",
        "\n",
        "print(b)\n",
        "print(c)"
      ],
      "metadata": {
        "colab": {
          "base_uri": "https://localhost:8080/"
        },
        "id": "Z_3wrKrweSzc",
        "outputId": "95efadb8-7e35-4c15-ced5-ba6391a1769b"
      },
      "execution_count": 34,
      "outputs": [
        {
          "output_type": "stream",
          "name": "stdout",
          "text": [
            "dict_values(['John', 30, [11, 8]])\n",
            "['John', 30, [11, 8]]\n"
          ]
        }
      ]
    },
    {
      "cell_type": "markdown",
      "source": [
        "####135-06 딕셔너리 키-값 리스트 만들기"
      ],
      "metadata": {
        "id": "AWQ6mXpEel0H"
      }
    },
    {
      "cell_type": "code",
      "source": [
        "a = {'name':'John', 'age':30, 'birth':[11, 8]}\n",
        "b = a.items()\n",
        "c = list(a.items())\n",
        "\n",
        "print(b)\n",
        "print(c)"
      ],
      "metadata": {
        "colab": {
          "base_uri": "https://localhost:8080/"
        },
        "id": "ANLfqlj0eoSN",
        "outputId": "ed6865ec-d54c-4d8e-c478-6256413e7c96"
      },
      "execution_count": 35,
      "outputs": [
        {
          "output_type": "stream",
          "name": "stdout",
          "text": [
            "dict_items([('name', 'John'), ('age', 30), ('birth', [11, 8])])\n",
            "[('name', 'John'), ('age', 30), ('birth', [11, 8])]\n"
          ]
        }
      ]
    },
    {
      "cell_type": "markdown",
      "source": [
        "####135-07 딕셔너리 키로 값 호출하기"
      ],
      "metadata": {
        "id": "09e_RJjJfYVh"
      }
    },
    {
      "cell_type": "code",
      "source": [
        "a = {'name':'John', 'age':30, 'birth':[11, 8]}\n",
        "b = a.get('name')\n",
        "c = a['name']\n",
        "d = a.get('house')\n",
        "e = a.get('house', 'No data')\n",
        "\n",
        "print(b)\n",
        "print(c)\n",
        "print(d)\n",
        "print(e)"
      ],
      "metadata": {
        "colab": {
          "base_uri": "https://localhost:8080/"
        },
        "id": "BVIiozo1fcB2",
        "outputId": "53d3c1e0-9ad4-4777-f8f6-ea0249c61bd9"
      },
      "execution_count": 36,
      "outputs": [
        {
          "output_type": "stream",
          "name": "stdout",
          "text": [
            "John\n",
            "John\n",
            "None\n",
            "No data\n"
          ]
        }
      ]
    },
    {
      "cell_type": "markdown",
      "source": [
        "###(6) 집합 자료형"
      ],
      "metadata": {
        "id": "TcYV_3DgFctK"
      }
    },
    {
      "cell_type": "markdown",
      "source": [
        "####136-01 집합 자료형"
      ],
      "metadata": {
        "id": "SGmPXqr4xNAM"
      }
    },
    {
      "cell_type": "code",
      "source": [
        "a = {1, 2, 3, 2, 1}\n",
        "b = set([1, 2, 3, 2, 1])\n",
        "c = set(\"Python\")\n",
        "\n",
        "print(a)\n",
        "print(b)\n",
        "print(c)"
      ],
      "metadata": {
        "colab": {
          "base_uri": "https://localhost:8080/"
        },
        "id": "QaPNIV6ExTrx",
        "outputId": "116a132a-3c4d-4934-aefe-38aec72b6680"
      },
      "execution_count": 37,
      "outputs": [
        {
          "output_type": "stream",
          "name": "stdout",
          "text": [
            "{1, 2, 3}\n",
            "{1, 2, 3}\n",
            "{'o', 'y', 'n', 't', 'h', 'P'}\n"
          ]
        }
      ]
    },
    {
      "cell_type": "markdown",
      "source": [
        "####136-02 집합 자료형 변환"
      ],
      "metadata": {
        "id": "G2LRRhnEx3tj"
      }
    },
    {
      "cell_type": "code",
      "source": [
        "a = set([1, 2, 3])\n",
        "b = list(a)\n",
        "c = tuple(a)\n",
        "\n",
        "print(a)\n",
        "print(b)\n",
        "print(b[0])\n",
        "print(c)\n",
        "print(c[2])"
      ],
      "metadata": {
        "colab": {
          "base_uri": "https://localhost:8080/"
        },
        "id": "NtQ1oyt2yCQ-",
        "outputId": "30297211-322f-4889-d96f-1d279889aab1"
      },
      "execution_count": 38,
      "outputs": [
        {
          "output_type": "stream",
          "name": "stdout",
          "text": [
            "{1, 2, 3}\n",
            "[1, 2, 3]\n",
            "1\n",
            "(1, 2, 3)\n",
            "3\n"
          ]
        }
      ]
    },
    {
      "cell_type": "markdown",
      "source": [
        "####136-03 집합 자료형 교집합"
      ],
      "metadata": {
        "id": "a-YgO7XYzZ3q"
      }
    },
    {
      "cell_type": "code",
      "source": [
        "a = set([1, 2, 3, 4, 5])\n",
        "b = set([3, 4, 5, 6, 7])\n",
        "c = a & b\n",
        "d = a.intersection(b)\n",
        "\n",
        "print(c)\n",
        "print(d)"
      ],
      "metadata": {
        "colab": {
          "base_uri": "https://localhost:8080/"
        },
        "id": "ujPlAnw5zcp3",
        "outputId": "9c029354-de03-4c85-dd42-09a4cf35fadf"
      },
      "execution_count": 39,
      "outputs": [
        {
          "output_type": "stream",
          "name": "stdout",
          "text": [
            "{3, 4, 5}\n",
            "{3, 4, 5}\n"
          ]
        }
      ]
    },
    {
      "cell_type": "markdown",
      "source": [
        "####136-04 집합 자료형 합집합"
      ],
      "metadata": {
        "id": "LBuoB6I-z7iZ"
      }
    },
    {
      "cell_type": "code",
      "source": [
        "a = set([1, 2, 3, 4, 5])\n",
        "b = set([3, 4, 5, 6, 7])\n",
        "c = a | b\n",
        "d = a.union(b)\n",
        "\n",
        "print(c)\n",
        "print(d)"
      ],
      "metadata": {
        "colab": {
          "base_uri": "https://localhost:8080/"
        },
        "id": "eDUXf0E4z90v",
        "outputId": "9494ed6e-7c8a-4db7-d6ad-e62a0b315848"
      },
      "execution_count": 40,
      "outputs": [
        {
          "output_type": "stream",
          "name": "stdout",
          "text": [
            "{1, 2, 3, 4, 5, 6, 7}\n",
            "{1, 2, 3, 4, 5, 6, 7}\n"
          ]
        }
      ]
    },
    {
      "cell_type": "markdown",
      "source": [
        "####136-05 집합 자료형 차집합"
      ],
      "metadata": {
        "id": "-hxv6iHx0Iho"
      }
    },
    {
      "cell_type": "code",
      "source": [
        "a = set([1, 2, 3, 4, 5])\n",
        "b = set([3, 4, 5, 6, 7])\n",
        "c = a - b\n",
        "d = a.difference(b)\n",
        "\n",
        "print(c)\n",
        "print(d)"
      ],
      "metadata": {
        "colab": {
          "base_uri": "https://localhost:8080/"
        },
        "id": "EN-iRfAR0LXB",
        "outputId": "b3a58379-d6ad-4fbf-978e-7861b05f3c1f"
      },
      "execution_count": 41,
      "outputs": [
        {
          "output_type": "stream",
          "name": "stdout",
          "text": [
            "{1, 2}\n",
            "{1, 2}\n"
          ]
        }
      ]
    },
    {
      "cell_type": "markdown",
      "source": [
        "###(7) 논리 자료형"
      ],
      "metadata": {
        "id": "IpIgLxqFFed9"
      }
    },
    {
      "cell_type": "markdown",
      "source": [
        "####137-01 논리 자료형 특징"
      ],
      "metadata": {
        "id": "bUcqJVy-1FTZ"
      }
    },
    {
      "cell_type": "code",
      "source": [
        "a = True\n",
        "b = False\n",
        "\n",
        "print(a)\n",
        "print(type(a))\n",
        "print(b)\n",
        "print(type(b))\n",
        "print(a + b)\n",
        "print(type(a + b))\n",
        "print(a * b)\n",
        "print(type(a * b))"
      ],
      "metadata": {
        "colab": {
          "base_uri": "https://localhost:8080/"
        },
        "id": "BfItBgto1Hqk",
        "outputId": "885da11c-d4c5-4971-8267-89cd6f3d0de0"
      },
      "execution_count": 42,
      "outputs": [
        {
          "output_type": "stream",
          "name": "stdout",
          "text": [
            "True\n",
            "<class 'bool'>\n",
            "False\n",
            "<class 'bool'>\n",
            "1\n",
            "<class 'int'>\n",
            "0\n",
            "<class 'int'>\n"
          ]
        }
      ]
    }
  ]
}