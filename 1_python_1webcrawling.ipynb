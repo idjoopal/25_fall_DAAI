{
  "nbformat": 4,
  "nbformat_minor": 0,
  "metadata": {
    "colab": {
      "provenance": []
    },
    "kernelspec": {
      "name": "python3",
      "display_name": "Python 3"
    },
    "language_info": {
      "name": "python"
    }
  },
  "cells": [
    {
      "cell_type": "markdown",
      "source": [
        "#2. 웹 크롤링 실습"
      ],
      "metadata": {
        "id": "Jloyiq7sGUtW"
      }
    },
    {
      "cell_type": "markdown",
      "source": [
        "## 1. 웹 크롤링 준비"
      ],
      "metadata": {
        "id": "aTfiFfrWGfY3"
      }
    },
    {
      "cell_type": "code",
      "execution_count": 65,
      "metadata": {
        "colab": {
          "base_uri": "https://localhost:8080/"
        },
        "id": "EqvoQNTrAnqD",
        "outputId": "9d7c3093-10ef-4f4d-8e48-d9acb1899ec4"
      },
      "outputs": [
        {
          "output_type": "stream",
          "name": "stdout",
          "text": [
            "Requirement already satisfied: bs4 in /usr/local/lib/python3.12/dist-packages (0.0.2)\n",
            "Requirement already satisfied: beautifulsoup4 in /usr/local/lib/python3.12/dist-packages (from bs4) (4.13.5)\n",
            "Requirement already satisfied: soupsieve>1.2 in /usr/local/lib/python3.12/dist-packages (from beautifulsoup4->bs4) (2.8)\n",
            "Requirement already satisfied: typing-extensions>=4.0.0 in /usr/local/lib/python3.12/dist-packages (from beautifulsoup4->bs4) (4.15.0)\n"
          ]
        }
      ],
      "source": [
        "pip install bs4"
      ]
    },
    {
      "cell_type": "code",
      "source": [
        "from bs4 import BeautifulSoup"
      ],
      "metadata": {
        "id": "dLlv_0SBAyXg"
      },
      "execution_count": 66,
      "outputs": []
    },
    {
      "cell_type": "code",
      "source": [
        "html = '<h1 id=\"title\">양영디지털고등학교</h1><div class=\"top\"><ul class=\"menu\"><li><a href=\"https://yy-h.goesn.kr/yy-h/main.do\" class=\"home\">메인</a></li></ul><ul class=\"submenu\"><li><a href=\"https://yy-h.goesn.kr/yy-h/cm/cntnts/cntntsView.do?mi=18791&cntntsId=3577\" class=\"intro\">학교소개</a></li></ul></div>'\n",
        "\n",
        "soup = BeautifulSoup(html, 'html.parser')\n",
        "\n",
        "print(soup.prettify())"
      ],
      "metadata": {
        "colab": {
          "base_uri": "https://localhost:8080/"
        },
        "id": "4pos-B28Bm1x",
        "outputId": "f2095c24-b0ac-407d-821a-d1be462ebb7e"
      },
      "execution_count": 67,
      "outputs": [
        {
          "output_type": "stream",
          "name": "stdout",
          "text": [
            "<h1 id=\"title\">\n",
            " 양영디지털고등학교\n",
            "</h1>\n",
            "<div class=\"top\">\n",
            " <ul class=\"menu\">\n",
            "  <li>\n",
            "   <a class=\"home\" href=\"https://yy-h.goesn.kr/yy-h/main.do\">\n",
            "    메인\n",
            "   </a>\n",
            "  </li>\n",
            " </ul>\n",
            " <ul class=\"submenu\">\n",
            "  <li>\n",
            "   <a class=\"intro\" href=\"https://yy-h.goesn.kr/yy-h/cm/cntnts/cntntsView.do?mi=18791&amp;cntntsId=3577\">\n",
            "    학교소개\n",
            "   </a>\n",
            "  </li>\n",
            " </ul>\n",
            "</div>\n",
            "\n"
          ]
        }
      ]
    },
    {
      "cell_type": "code",
      "source": [
        "print(soup.h1)"
      ],
      "metadata": {
        "colab": {
          "base_uri": "https://localhost:8080/"
        },
        "id": "ONqYhXRiB7He",
        "outputId": "89e3cea4-207f-402c-e430-817b5acc0a69"
      },
      "execution_count": 68,
      "outputs": [
        {
          "output_type": "stream",
          "name": "stdout",
          "text": [
            "<h1 id=\"title\">양영디지털고등학교</h1>\n"
          ]
        }
      ]
    },
    {
      "cell_type": "code",
      "source": [
        "print(soup.div)"
      ],
      "metadata": {
        "colab": {
          "base_uri": "https://localhost:8080/"
        },
        "id": "xiySgYepCEpO",
        "outputId": "9f83f428-a0b1-4b24-ee46-5682c0a34780"
      },
      "execution_count": 69,
      "outputs": [
        {
          "output_type": "stream",
          "name": "stdout",
          "text": [
            "<div class=\"top\"><ul class=\"menu\"><li><a class=\"home\" href=\"https://yy-h.goesn.kr/yy-h/main.do\">메인</a></li></ul><ul class=\"submenu\"><li><a class=\"intro\" href=\"https://yy-h.goesn.kr/yy-h/cm/cntnts/cntntsView.do?mi=18791&amp;cntntsId=3577\">학교소개</a></li></ul></div>\n"
          ]
        }
      ]
    },
    {
      "cell_type": "code",
      "source": [
        "tag_h1 = soup.h1\n",
        "tag_div = soup.div"
      ],
      "metadata": {
        "id": "bkAiJ7LAB_uJ"
      },
      "execution_count": 70,
      "outputs": []
    },
    {
      "cell_type": "code",
      "source": [
        "print(tag_div.a)"
      ],
      "metadata": {
        "colab": {
          "base_uri": "https://localhost:8080/"
        },
        "id": "PK_6KpijCPtF",
        "outputId": "0868b2b5-49a9-4443-ac87-05051e191030"
      },
      "execution_count": 71,
      "outputs": [
        {
          "output_type": "stream",
          "name": "stdout",
          "text": [
            "<a class=\"home\" href=\"https://yy-h.goesn.kr/yy-h/main.do\">메인</a>\n"
          ]
        }
      ]
    },
    {
      "cell_type": "code",
      "source": [
        "tag_a = tag_div.a"
      ],
      "metadata": {
        "id": "lnu1dBTEC7Yb"
      },
      "execution_count": 72,
      "outputs": []
    },
    {
      "cell_type": "code",
      "source": [
        "tag_ul_all = soup.find_all(\"ul\")\n",
        "print(tag_ul_all)\n",
        "\n",
        "tag_li_all = soup.find_all(\"li\")\n",
        "print(tag_li_all)\n",
        "\n",
        "tag_a_all = soup.find_all(\"a\")\n",
        "print(tag_a_all)"
      ],
      "metadata": {
        "colab": {
          "base_uri": "https://localhost:8080/"
        },
        "id": "UrfuU-kgCSXc",
        "outputId": "aa83bd1f-5f10-4edf-a35a-5c94dbe3738b"
      },
      "execution_count": 73,
      "outputs": [
        {
          "output_type": "stream",
          "name": "stdout",
          "text": [
            "[<ul class=\"menu\"><li><a class=\"home\" href=\"https://yy-h.goesn.kr/yy-h/main.do\">메인</a></li></ul>, <ul class=\"submenu\"><li><a class=\"intro\" href=\"https://yy-h.goesn.kr/yy-h/cm/cntnts/cntntsView.do?mi=18791&amp;cntntsId=3577\">학교소개</a></li></ul>]\n",
            "[<li><a class=\"home\" href=\"https://yy-h.goesn.kr/yy-h/main.do\">메인</a></li>, <li><a class=\"intro\" href=\"https://yy-h.goesn.kr/yy-h/cm/cntnts/cntntsView.do?mi=18791&amp;cntntsId=3577\">학교소개</a></li>]\n",
            "[<a class=\"home\" href=\"https://yy-h.goesn.kr/yy-h/main.do\">메인</a>, <a class=\"intro\" href=\"https://yy-h.goesn.kr/yy-h/cm/cntnts/cntntsView.do?mi=18791&amp;cntntsId=3577\">학교소개</a>]\n"
          ]
        }
      ]
    },
    {
      "cell_type": "code",
      "source": [
        "print(tag_a.attrs)\n",
        "print(tag_a['href'])\n",
        "print(tag_a['class'])"
      ],
      "metadata": {
        "colab": {
          "base_uri": "https://localhost:8080/"
        },
        "id": "SkzvBkm7CuXp",
        "outputId": "bb8a6978-da87-45b2-ddc6-5c7a6091072c"
      },
      "execution_count": 74,
      "outputs": [
        {
          "output_type": "stream",
          "name": "stdout",
          "text": [
            "{'href': 'https://yy-h.goesn.kr/yy-h/main.do', 'class': ['home']}\n",
            "https://yy-h.goesn.kr/yy-h/main.do\n",
            "['home']\n"
          ]
        }
      ]
    },
    {
      "cell_type": "code",
      "source": [
        "tag_ul_2 = soup.find('ul', attrs={'class':'submenu'})\n",
        "print(tag_ul_2)\n",
        "print(tag_ul_2.string)"
      ],
      "metadata": {
        "colab": {
          "base_uri": "https://localhost:8080/"
        },
        "id": "6fs-D8hgFHZr",
        "outputId": "3860cbf6-28e1-486c-a12f-3c0e654b1ce4"
      },
      "execution_count": 75,
      "outputs": [
        {
          "output_type": "stream",
          "name": "stdout",
          "text": [
            "<ul class=\"submenu\"><li><a class=\"intro\" href=\"https://yy-h.goesn.kr/yy-h/cm/cntnts/cntntsView.do?mi=18791&amp;cntntsId=3577\">학교소개</a></li></ul>\n",
            "학교소개\n"
          ]
        }
      ]
    },
    {
      "cell_type": "markdown",
      "source": [
        "## 2. 웹 크롤링 실전"
      ],
      "metadata": {
        "id": "ECqLu73_GTdu"
      }
    },
    {
      "cell_type": "code",
      "source": [
        "import urllib.request"
      ],
      "metadata": {
        "id": "cuAzZ8ARIh2v"
      },
      "execution_count": 76,
      "outputs": []
    },
    {
      "cell_type": "code",
      "source": [
        "hollys_url = 'https://www.hollys.co.kr/store/korea/korStore2.do?pageNo=1&sido=&gugun=&store='\n",
        "\n",
        "html = urllib.request.urlopen(hollys_url)\n",
        "soup_hollys = BeautifulSoup(html, 'html.parser')\n",
        "tag_tbody = soup_hollys.find('tbody')"
      ],
      "metadata": {
        "id": "Fy01ohGpN1gV"
      },
      "execution_count": 77,
      "outputs": []
    },
    {
      "cell_type": "code",
      "source": [
        "tag_tbody"
      ],
      "metadata": {
        "id": "IHlVDdP7OkPZ",
        "colab": {
          "base_uri": "https://localhost:8080/"
        },
        "outputId": "f32b0419-e75f-4793-8b6c-ba5400a33e84"
      },
      "execution_count": 78,
      "outputs": [
        {
          "output_type": "execute_result",
          "data": {
            "text/plain": [
              "<tbody>\n",
              "<tr>\n",
              "<!--\n",
              "\t\t\t\t<td class=\"noline center_t\">\n",
              "\t\t\t\t\t\t\t\t\t\t\t\t\t\t\t\t<a href=\"javascript:goLogin();\"><img src=\"https://www.hollys.co.kr/websrc/images/store/ico_favorite_off.png\" alt=\"즐겨찾기\"></a>\n",
              "\t\t\t\t\t\t\t\t\t</td>\n",
              "\t\t\t\t -->\n",
              "<td class=\"noline center_t\">부산 남구</td>\n",
              "<td class=\"center_t\"><a href=\"#\" onclick=\"javascript:storeView(1215); return false;\">국립부경대청운관점</a></td>\n",
              "<td class=\"center_t tdp0\">영업중</td>\n",
              "<td class=\"center_t\"><a href=\"#\" onclick=\"javascript:storeView(1215); return false;\">부산광역시 남구 용소로 45 (대연동, 국립부경대학교대연캠퍼스) 청운관 1층</a></td>\n",
              "<td class=\"center_t\">\n",
              "</td>\n",
              "<td class=\"center_t\">051-629-7419</td>\n",
              "</tr>\n",
              "<tr>\n",
              "<!--\n",
              "\t\t\t\t<td class=\"noline center_t\">\n",
              "\t\t\t\t\t\t\t\t\t\t\t\t\t\t\t\t<a href=\"javascript:goLogin();\"><img src=\"https://www.hollys.co.kr/websrc/images/store/ico_favorite_off.png\" alt=\"즐겨찾기\"></a>\n",
              "\t\t\t\t\t\t\t\t\t</td>\n",
              "\t\t\t\t -->\n",
              "<td class=\"noline center_t\">경기 이천시</td>\n",
              "<td class=\"center_t\"><a href=\"#\" onclick=\"javascript:storeView(1212); return false;\">이천점</a></td>\n",
              "<td class=\"center_t tdp0\">영업중</td>\n",
              "<td class=\"center_t\"><a href=\"#\" onclick=\"javascript:storeView(1212); return false;\">경기도 이천시 어재연로 35, 1~3층 (창전동 160-25)</a></td>\n",
              "<td class=\"center_t\">\n",
              "<img alt=\"흡연시설\" src=\"https://www.hollys.co.kr/websrc/images/store/img_store_s04.gif\" style=\"margin-right:1px\"/>\n",
              "</td>\n",
              "<td class=\"center_t\">031-635-6655</td>\n",
              "</tr>\n",
              "<tr>\n",
              "<!--\n",
              "\t\t\t\t<td class=\"noline center_t\">\n",
              "\t\t\t\t\t\t\t\t\t\t\t\t\t\t\t\t<a href=\"javascript:goLogin();\"><img src=\"https://www.hollys.co.kr/websrc/images/store/ico_favorite_off.png\" alt=\"즐겨찾기\"></a>\n",
              "\t\t\t\t\t\t\t\t\t</td>\n",
              "\t\t\t\t -->\n",
              "<td class=\"noline center_t\">충남 공주시</td>\n",
              "<td class=\"center_t\"><a href=\"#\" onclick=\"javascript:storeView(1211); return false;\">(하)정안알밤휴게소점</a></td>\n",
              "<td class=\"center_t tdp0\">영업중</td>\n",
              "<td class=\"center_t\"><a href=\"#\" onclick=\"javascript:storeView(1211); return false;\">충청남도 공주시 정안면 논산천안고속도로 57 (정안하행휴게소) .</a></td>\n",
              "<td class=\"center_t\">\n",
              "<img alt=\"테라스\" src=\"https://www.hollys.co.kr/websrc/images/store/img_store_s02.gif\" style=\"margin-right:1px\"/>\n",
              "<img alt=\"주차\" src=\"https://www.hollys.co.kr/websrc/images/store/img_store_s08.png\" style=\"margin-right:1px\"/>\n",
              "</td>\n",
              "<td class=\"center_t\"></td>\n",
              "</tr>\n",
              "<tr>\n",
              "<!--\n",
              "\t\t\t\t<td class=\"noline center_t\">\n",
              "\t\t\t\t\t\t\t\t\t\t\t\t\t\t\t\t<a href=\"javascript:goLogin();\"><img src=\"https://www.hollys.co.kr/websrc/images/store/ico_favorite_off.png\" alt=\"즐겨찾기\"></a>\n",
              "\t\t\t\t\t\t\t\t\t</td>\n",
              "\t\t\t\t -->\n",
              "<td class=\"noline center_t\">충남 공주시</td>\n",
              "<td class=\"center_t\"><a href=\"#\" onclick=\"javascript:storeView(1210); return false;\">(상)정안알밤휴게소점</a></td>\n",
              "<td class=\"center_t tdp0\">영업중</td>\n",
              "<td class=\"center_t\"><a href=\"#\" onclick=\"javascript:storeView(1210); return false;\">충청남도 공주시 정안면 논산천안고속도로 58 (정안상행휴게소) .</a></td>\n",
              "<td class=\"center_t\">\n",
              "<img alt=\"테라스\" src=\"https://www.hollys.co.kr/websrc/images/store/img_store_s02.gif\" style=\"margin-right:1px\"/>\n",
              "<img alt=\"주차\" src=\"https://www.hollys.co.kr/websrc/images/store/img_store_s08.png\" style=\"margin-right:1px\"/>\n",
              "</td>\n",
              "<td class=\"center_t\"></td>\n",
              "</tr>\n",
              "<tr>\n",
              "<!--\n",
              "\t\t\t\t<td class=\"noline center_t\">\n",
              "\t\t\t\t\t\t\t\t\t\t\t\t\t\t\t\t<a href=\"javascript:goLogin();\"><img src=\"https://www.hollys.co.kr/websrc/images/store/ico_favorite_off.png\" alt=\"즐겨찾기\"></a>\n",
              "\t\t\t\t\t\t\t\t\t</td>\n",
              "\t\t\t\t -->\n",
              "<td class=\"noline center_t\">제주 제주시</td>\n",
              "<td class=\"center_t\"><a href=\"#\" onclick=\"javascript:storeView(1209); return false;\">제주곽지해수욕장점</a></td>\n",
              "<td class=\"center_t tdp0\">영업중</td>\n",
              "<td class=\"center_t\"><a href=\"#\" onclick=\"javascript:storeView(1209); return false;\">제주특별자치도 제주시 애월읍 곽지3길 27-1 2~3층</a></td>\n",
              "<td class=\"center_t\">\n",
              "</td>\n",
              "<td class=\"center_t\">064-799-1137 </td>\n",
              "</tr>\n",
              "<tr>\n",
              "<!--\n",
              "\t\t\t\t<td class=\"noline center_t\">\n",
              "\t\t\t\t\t\t\t\t\t\t\t\t\t\t\t\t<a href=\"javascript:goLogin();\"><img src=\"https://www.hollys.co.kr/websrc/images/store/ico_favorite_off.png\" alt=\"즐겨찾기\"></a>\n",
              "\t\t\t\t\t\t\t\t\t</td>\n",
              "\t\t\t\t -->\n",
              "<td class=\"noline center_t\">서울 동작구</td>\n",
              "<td class=\"center_t\"><a href=\"#\" onclick=\"javascript:storeView(1208); return false;\">신대방삼거리역점</a></td>\n",
              "<td class=\"center_t tdp0\">영업중</td>\n",
              "<td class=\"center_t\"><a href=\"#\" onclick=\"javascript:storeView(1208); return false;\">서울특별시 동작구 상도로 60 (대방동) 1층~2층</a></td>\n",
              "<td class=\"center_t\">\n",
              "</td>\n",
              "<td class=\"center_t\">02-823-2377</td>\n",
              "</tr>\n",
              "<tr>\n",
              "<!--\n",
              "\t\t\t\t<td class=\"noline center_t\">\n",
              "\t\t\t\t\t\t\t\t\t\t\t\t\t\t\t\t<a href=\"javascript:goLogin();\"><img src=\"https://www.hollys.co.kr/websrc/images/store/ico_favorite_off.png\" alt=\"즐겨찾기\"></a>\n",
              "\t\t\t\t\t\t\t\t\t</td>\n",
              "\t\t\t\t -->\n",
              "<td class=\"noline center_t\">대전 중구</td>\n",
              "<td class=\"center_t\"><a href=\"#\" onclick=\"javascript:storeView(1207); return false;\">대전삼부스포렉스점</a></td>\n",
              "<td class=\"center_t tdp0\">영업중</td>\n",
              "<td class=\"center_t\"><a href=\"#\" onclick=\"javascript:storeView(1207); return false;\">대전광역시 중구 태평로 83, 삼부스포렉스 1층 (태평동 408-11) .</a></td>\n",
              "<td class=\"center_t\">\n",
              "<img alt=\"주차\" src=\"https://www.hollys.co.kr/websrc/images/store/img_store_s08.png\" style=\"margin-right:1px\"/>\n",
              "</td>\n",
              "<td class=\"center_t\">042-301-9960</td>\n",
              "</tr>\n",
              "<tr>\n",
              "<!--\n",
              "\t\t\t\t<td class=\"noline center_t\">\n",
              "\t\t\t\t\t\t\t\t\t\t\t\t\t\t\t\t<a href=\"javascript:goLogin();\"><img src=\"https://www.hollys.co.kr/websrc/images/store/ico_favorite_off.png\" alt=\"즐겨찾기\"></a>\n",
              "\t\t\t\t\t\t\t\t\t</td>\n",
              "\t\t\t\t -->\n",
              "<td class=\"noline center_t\">전북 익산시</td>\n",
              "<td class=\"center_t\"><a href=\"#\" onclick=\"javascript:storeView(1206); return false;\">익산부송점</a></td>\n",
              "<td class=\"center_t tdp0\">영업중</td>\n",
              "<td class=\"center_t\"><a href=\"#\" onclick=\"javascript:storeView(1206); return false;\">전라북도 익산시 하나로10길 70-1 (부송동, 레스트빌딩 1층) .</a></td>\n",
              "<td class=\"center_t\">\n",
              "<img alt=\"주차\" src=\"https://www.hollys.co.kr/websrc/images/store/img_store_s08.png\" style=\"margin-right:1px\"/>\n",
              "</td>\n",
              "<td class=\"center_t\">063-832-1717</td>\n",
              "</tr>\n",
              "<tr>\n",
              "<!--\n",
              "\t\t\t\t<td class=\"noline center_t\">\n",
              "\t\t\t\t\t\t\t\t\t\t\t\t\t\t\t\t<a href=\"javascript:goLogin();\"><img src=\"https://www.hollys.co.kr/websrc/images/store/ico_favorite_off.png\" alt=\"즐겨찾기\"></a>\n",
              "\t\t\t\t\t\t\t\t\t</td>\n",
              "\t\t\t\t -->\n",
              "<td class=\"noline center_t\">경남 창원시 진해구</td>\n",
              "<td class=\"center_t\"><a href=\"#\" onclick=\"javascript:storeView(1204); return false;\">진해속천점</a></td>\n",
              "<td class=\"center_t tdp0\">영업중</td>\n",
              "<td class=\"center_t\"><a href=\"#\" onclick=\"javascript:storeView(1204); return false;\">경상남도 창원시 진해구 태평로 132 (속천동) 2~3층</a></td>\n",
              "<td class=\"center_t\">\n",
              "<img alt=\"테라스\" src=\"https://www.hollys.co.kr/websrc/images/store/img_store_s02.gif\" style=\"margin-right:1px\"/>\n",
              "<img alt=\"주차\" src=\"https://www.hollys.co.kr/websrc/images/store/img_store_s08.png\" style=\"margin-right:1px\"/>\n",
              "</td>\n",
              "<td class=\"center_t\">070-7786-1019</td>\n",
              "</tr>\n",
              "<tr>\n",
              "<!--\n",
              "\t\t\t\t<td class=\"noline center_t\">\n",
              "\t\t\t\t\t\t\t\t\t\t\t\t\t\t\t\t<a href=\"javascript:goLogin();\"><img src=\"https://www.hollys.co.kr/websrc/images/store/ico_favorite_off.png\" alt=\"즐겨찾기\"></a>\n",
              "\t\t\t\t\t\t\t\t\t</td>\n",
              "\t\t\t\t -->\n",
              "<td class=\"noline center_t\">서울 영등포구</td>\n",
              "<td class=\"center_t\"><a href=\"#\" onclick=\"javascript:storeView(1203); return false;\">여의도포스트타워점</a></td>\n",
              "<td class=\"center_t tdp0\">영업중</td>\n",
              "<td class=\"center_t\"><a href=\"#\" onclick=\"javascript:storeView(1203); return false;\">서울특별시 영등포구 여의나루로 60 포스트타워 여의도 1층 </a></td>\n",
              "<td class=\"center_t\">\n",
              "<img alt=\"주차\" src=\"https://www.hollys.co.kr/websrc/images/store/img_store_s08.png\" style=\"margin-right:1px\"/>\n",
              "</td>\n",
              "<td class=\"center_t\">02-2135-5321</td>\n",
              "</tr>\n",
              "</tbody>"
            ]
          },
          "metadata": {},
          "execution_count": 78
        }
      ]
    },
    {
      "cell_type": "code",
      "source": [
        "store = tag_tbody.find_all('tr')[0]\n",
        "print(store)"
      ],
      "metadata": {
        "colab": {
          "base_uri": "https://localhost:8080/"
        },
        "id": "t73hMSBVORsY",
        "outputId": "2fffee42-8cdb-421d-f826-f6fffc0bbd54"
      },
      "execution_count": 79,
      "outputs": [
        {
          "output_type": "stream",
          "name": "stdout",
          "text": [
            "<tr>\n",
            "<!--\r\n",
            "\t\t\t\t<td class=\"noline center_t\">\r\n",
            "\t\t\t\t\t\t\t\t\t\t\t\t\t\t\t\t<a href=\"javascript:goLogin();\"><img src=\"https://www.hollys.co.kr/websrc/images/store/ico_favorite_off.png\" alt=\"즐겨찾기\"></a>\r\n",
            "\t\t\t\t\t\t\t\t\t</td>\r\n",
            "\t\t\t\t -->\n",
            "<td class=\"noline center_t\">부산 남구</td>\n",
            "<td class=\"center_t\"><a href=\"#\" onclick=\"javascript:storeView(1215); return false;\">국립부경대청운관점</a></td>\n",
            "<td class=\"center_t tdp0\">영업중</td>\n",
            "<td class=\"center_t\"><a href=\"#\" onclick=\"javascript:storeView(1215); return false;\">부산광역시 남구 용소로 45 (대연동, 국립부경대학교대연캠퍼스) 청운관 1층</a></td>\n",
            "<td class=\"center_t\">\n",
            "</td>\n",
            "<td class=\"center_t\">051-629-7419</td>\n",
            "</tr>\n"
          ]
        }
      ]
    },
    {
      "cell_type": "code",
      "source": [
        "store_td = store.find_all('td')\n",
        "print(store_td)"
      ],
      "metadata": {
        "colab": {
          "base_uri": "https://localhost:8080/"
        },
        "id": "2DqeaXitOcDA",
        "outputId": "d2c14651-931c-4b53-cbfc-6e45d97f4d5e"
      },
      "execution_count": 80,
      "outputs": [
        {
          "output_type": "stream",
          "name": "stdout",
          "text": [
            "[<td class=\"noline center_t\">부산 남구</td>, <td class=\"center_t\"><a href=\"#\" onclick=\"javascript:storeView(1215); return false;\">국립부경대청운관점</a></td>, <td class=\"center_t tdp0\">영업중</td>, <td class=\"center_t\"><a href=\"#\" onclick=\"javascript:storeView(1215); return false;\">부산광역시 남구 용소로 45 (대연동, 국립부경대학교대연캠퍼스) 청운관 1층</a></td>, <td class=\"center_t\">\n",
            "</td>, <td class=\"center_t\">051-629-7419</td>]\n"
          ]
        }
      ]
    },
    {
      "cell_type": "code",
      "source": [
        "print(store_td[1].string)\n",
        "print(store_td[0].string)\n",
        "print(store_td[3].string)\n",
        "print(store_td[5].string)"
      ],
      "metadata": {
        "colab": {
          "base_uri": "https://localhost:8080/"
        },
        "id": "LRgqqkD4LTIh",
        "outputId": "467109f2-4e65-49d8-8657-5f3119f6534e"
      },
      "execution_count": 81,
      "outputs": [
        {
          "output_type": "stream",
          "name": "stdout",
          "text": [
            "국립부경대청운관점\n",
            "부산 남구\n",
            "부산광역시 남구 용소로 45 (대연동, 국립부경대학교대연캠퍼스) 청운관 1층\n",
            "051-629-7419\n"
          ]
        }
      ]
    },
    {
      "cell_type": "markdown",
      "source": [
        "### 실습. 모든 매장 정보 저장하기"
      ],
      "metadata": {
        "id": "9kfXdZF_O80b"
      }
    },
    {
      "cell_type": "code",
      "source": [
        "result=[]\n",
        "\n",
        "for page in range(1, 51):\n",
        "    hollys_url = 'https://www.hollys.co.kr/store/korea/korStore2.do?pageNo=%d&sido=&gugun=&store=' %page\n",
        "    print(hollys_url)\n",
        "\n",
        "    html = urllib.request.urlopen(hollys_url)\n",
        "    soup_hollys = BeautifulSoup(html, 'html.parser')\n",
        "    tag_tbody = soup_hollys.find('tbody')\n",
        "    for store in tag_tbody.find_all('tr'):\n",
        "        if len(store) <= 3:\n",
        "            break\n",
        "        store_td = store.find_all('td')\n",
        "        store_name = store_td[1].string\n",
        "        store_sido = store_td[0].string\n",
        "        store_address = store_td[3].string\n",
        "        store_phone = store_td[5].string\n",
        "        result.append([store_name]+[store_sido]+[store_address]+[store_phone])"
      ],
      "metadata": {
        "colab": {
          "base_uri": "https://localhost:8080/"
        },
        "id": "0WsjUXoDIlCG",
        "outputId": "e12e8d3d-dda0-4c66-84b0-ac2df9829968"
      },
      "execution_count": 82,
      "outputs": [
        {
          "output_type": "stream",
          "name": "stdout",
          "text": [
            "https://www.hollys.co.kr/store/korea/korStore2.do?pageNo=1&sido=&gugun=&store=\n",
            "https://www.hollys.co.kr/store/korea/korStore2.do?pageNo=2&sido=&gugun=&store=\n",
            "https://www.hollys.co.kr/store/korea/korStore2.do?pageNo=3&sido=&gugun=&store=\n",
            "https://www.hollys.co.kr/store/korea/korStore2.do?pageNo=4&sido=&gugun=&store=\n",
            "https://www.hollys.co.kr/store/korea/korStore2.do?pageNo=5&sido=&gugun=&store=\n",
            "https://www.hollys.co.kr/store/korea/korStore2.do?pageNo=6&sido=&gugun=&store=\n",
            "https://www.hollys.co.kr/store/korea/korStore2.do?pageNo=7&sido=&gugun=&store=\n",
            "https://www.hollys.co.kr/store/korea/korStore2.do?pageNo=8&sido=&gugun=&store=\n",
            "https://www.hollys.co.kr/store/korea/korStore2.do?pageNo=9&sido=&gugun=&store=\n",
            "https://www.hollys.co.kr/store/korea/korStore2.do?pageNo=10&sido=&gugun=&store=\n",
            "https://www.hollys.co.kr/store/korea/korStore2.do?pageNo=11&sido=&gugun=&store=\n",
            "https://www.hollys.co.kr/store/korea/korStore2.do?pageNo=12&sido=&gugun=&store=\n",
            "https://www.hollys.co.kr/store/korea/korStore2.do?pageNo=13&sido=&gugun=&store=\n",
            "https://www.hollys.co.kr/store/korea/korStore2.do?pageNo=14&sido=&gugun=&store=\n",
            "https://www.hollys.co.kr/store/korea/korStore2.do?pageNo=15&sido=&gugun=&store=\n",
            "https://www.hollys.co.kr/store/korea/korStore2.do?pageNo=16&sido=&gugun=&store=\n",
            "https://www.hollys.co.kr/store/korea/korStore2.do?pageNo=17&sido=&gugun=&store=\n",
            "https://www.hollys.co.kr/store/korea/korStore2.do?pageNo=18&sido=&gugun=&store=\n",
            "https://www.hollys.co.kr/store/korea/korStore2.do?pageNo=19&sido=&gugun=&store=\n",
            "https://www.hollys.co.kr/store/korea/korStore2.do?pageNo=20&sido=&gugun=&store=\n",
            "https://www.hollys.co.kr/store/korea/korStore2.do?pageNo=21&sido=&gugun=&store=\n",
            "https://www.hollys.co.kr/store/korea/korStore2.do?pageNo=22&sido=&gugun=&store=\n",
            "https://www.hollys.co.kr/store/korea/korStore2.do?pageNo=23&sido=&gugun=&store=\n",
            "https://www.hollys.co.kr/store/korea/korStore2.do?pageNo=24&sido=&gugun=&store=\n",
            "https://www.hollys.co.kr/store/korea/korStore2.do?pageNo=25&sido=&gugun=&store=\n",
            "https://www.hollys.co.kr/store/korea/korStore2.do?pageNo=26&sido=&gugun=&store=\n",
            "https://www.hollys.co.kr/store/korea/korStore2.do?pageNo=27&sido=&gugun=&store=\n",
            "https://www.hollys.co.kr/store/korea/korStore2.do?pageNo=28&sido=&gugun=&store=\n",
            "https://www.hollys.co.kr/store/korea/korStore2.do?pageNo=29&sido=&gugun=&store=\n",
            "https://www.hollys.co.kr/store/korea/korStore2.do?pageNo=30&sido=&gugun=&store=\n",
            "https://www.hollys.co.kr/store/korea/korStore2.do?pageNo=31&sido=&gugun=&store=\n",
            "https://www.hollys.co.kr/store/korea/korStore2.do?pageNo=32&sido=&gugun=&store=\n",
            "https://www.hollys.co.kr/store/korea/korStore2.do?pageNo=33&sido=&gugun=&store=\n",
            "https://www.hollys.co.kr/store/korea/korStore2.do?pageNo=34&sido=&gugun=&store=\n",
            "https://www.hollys.co.kr/store/korea/korStore2.do?pageNo=35&sido=&gugun=&store=\n",
            "https://www.hollys.co.kr/store/korea/korStore2.do?pageNo=36&sido=&gugun=&store=\n",
            "https://www.hollys.co.kr/store/korea/korStore2.do?pageNo=37&sido=&gugun=&store=\n",
            "https://www.hollys.co.kr/store/korea/korStore2.do?pageNo=38&sido=&gugun=&store=\n",
            "https://www.hollys.co.kr/store/korea/korStore2.do?pageNo=39&sido=&gugun=&store=\n",
            "https://www.hollys.co.kr/store/korea/korStore2.do?pageNo=40&sido=&gugun=&store=\n",
            "https://www.hollys.co.kr/store/korea/korStore2.do?pageNo=41&sido=&gugun=&store=\n",
            "https://www.hollys.co.kr/store/korea/korStore2.do?pageNo=42&sido=&gugun=&store=\n",
            "https://www.hollys.co.kr/store/korea/korStore2.do?pageNo=43&sido=&gugun=&store=\n",
            "https://www.hollys.co.kr/store/korea/korStore2.do?pageNo=44&sido=&gugun=&store=\n",
            "https://www.hollys.co.kr/store/korea/korStore2.do?pageNo=45&sido=&gugun=&store=\n",
            "https://www.hollys.co.kr/store/korea/korStore2.do?pageNo=46&sido=&gugun=&store=\n",
            "https://www.hollys.co.kr/store/korea/korStore2.do?pageNo=47&sido=&gugun=&store=\n",
            "https://www.hollys.co.kr/store/korea/korStore2.do?pageNo=48&sido=&gugun=&store=\n",
            "https://www.hollys.co.kr/store/korea/korStore2.do?pageNo=49&sido=&gugun=&store=\n",
            "https://www.hollys.co.kr/store/korea/korStore2.do?pageNo=50&sido=&gugun=&store=\n"
          ]
        }
      ]
    },
    {
      "cell_type": "code",
      "source": [
        "len(result)"
      ],
      "metadata": {
        "colab": {
          "base_uri": "https://localhost:8080/"
        },
        "id": "8wHXutpLKqdw",
        "outputId": "dd3250e2-ede1-447a-a43a-d29a0cdbcaa3"
      },
      "execution_count": 83,
      "outputs": [
        {
          "output_type": "execute_result",
          "data": {
            "text/plain": [
              "457"
            ]
          },
          "metadata": {},
          "execution_count": 83
        }
      ]
    },
    {
      "cell_type": "code",
      "source": [
        "result[0]"
      ],
      "metadata": {
        "colab": {
          "base_uri": "https://localhost:8080/"
        },
        "id": "rj5O_0Q8KvZE",
        "outputId": "16ca2465-5db7-4ee2-8153-5e3df56b9c5f"
      },
      "execution_count": 84,
      "outputs": [
        {
          "output_type": "execute_result",
          "data": {
            "text/plain": [
              "['국립부경대청운관점',\n",
              " '부산 남구',\n",
              " '부산광역시 남구 용소로 45 (대연동, 국립부경대학교대연캠퍼스) 청운관 1층',\n",
              " '051-629-7419']"
            ]
          },
          "metadata": {},
          "execution_count": 84
        }
      ]
    },
    {
      "cell_type": "code",
      "source": [
        "result[-1]"
      ],
      "metadata": {
        "colab": {
          "base_uri": "https://localhost:8080/"
        },
        "id": "TbgGNTToLGi1",
        "outputId": "007eb1ca-e3d1-4394-a2ea-bea5e862df64"
      },
      "execution_count": 85,
      "outputs": [
        {
          "output_type": "execute_result",
          "data": {
            "text/plain": [
              "['신촌점', '서울 서대문구', '서울특별시 서대문구 연세로 34 (창천동 31-12)  할리스', '02-393-2004']"
            ]
          },
          "metadata": {},
          "execution_count": 85
        }
      ]
    },
    {
      "cell_type": "markdown",
      "source": [
        "## 3. 크롤링 결과 저장하기"
      ],
      "metadata": {
        "id": "mmzzQAClLfma"
      }
    },
    {
      "cell_type": "code",
      "source": [
        "pip install pandas"
      ],
      "metadata": {
        "colab": {
          "base_uri": "https://localhost:8080/"
        },
        "id": "vriDdZ1wLmoz",
        "outputId": "79dd4b62-768a-4a70-c033-8268d95a6c7c"
      },
      "execution_count": 86,
      "outputs": [
        {
          "output_type": "stream",
          "name": "stdout",
          "text": [
            "Requirement already satisfied: pandas in /usr/local/lib/python3.12/dist-packages (2.2.2)\n",
            "Requirement already satisfied: numpy>=1.26.0 in /usr/local/lib/python3.12/dist-packages (from pandas) (2.0.2)\n",
            "Requirement already satisfied: python-dateutil>=2.8.2 in /usr/local/lib/python3.12/dist-packages (from pandas) (2.9.0.post0)\n",
            "Requirement already satisfied: pytz>=2020.1 in /usr/local/lib/python3.12/dist-packages (from pandas) (2025.2)\n",
            "Requirement already satisfied: tzdata>=2022.7 in /usr/local/lib/python3.12/dist-packages (from pandas) (2025.2)\n",
            "Requirement already satisfied: six>=1.5 in /usr/local/lib/python3.12/dist-packages (from python-dateutil>=2.8.2->pandas) (1.17.0)\n"
          ]
        }
      ]
    },
    {
      "cell_type": "code",
      "source": [
        "import pandas as pd\n",
        "\n",
        "hollys_tbl = pd.DataFrame(result, columns=('store', 'sido-gu', 'address', 'phone'))\n",
        "hollys_tbl"
      ],
      "metadata": {
        "colab": {
          "base_uri": "https://localhost:8080/",
          "height": 424
        },
        "id": "Qksnmr-FLtyD",
        "outputId": "af6db1e8-2c45-4f37-db47-7fdc303d9a59"
      },
      "execution_count": 88,
      "outputs": [
        {
          "output_type": "execute_result",
          "data": {
            "text/plain": [
              "           store  sido-gu                                      address  \\\n",
              "0      국립부경대청운관점    부산 남구   부산광역시 남구 용소로 45 (대연동, 국립부경대학교대연캠퍼스) 청운관 1층   \n",
              "1            이천점   경기 이천시           경기도 이천시 어재연로 35, 1~3층 (창전동 160-25)   \n",
              "2    (하)정안알밤휴게소점   충남 공주시         충청남도 공주시 정안면 논산천안고속도로 57 (정안하행휴게소) .   \n",
              "3    (상)정안알밤휴게소점   충남 공주시         충청남도 공주시 정안면 논산천안고속도로 58 (정안상행휴게소) .   \n",
              "4      제주곽지해수욕장점   제주 제주시               제주특별자치도 제주시 애월읍 곽지3길 27-1 2~3층   \n",
              "..           ...      ...                                          ...   \n",
              "452         합정역점   서울 마포구             서울특별시 마포구 양화로 36 (합정동 374-1) 할리스   \n",
              "453       부산달맞이점  부산 해운대구   부산광역시 해운대구 달맞이길 199, 2~3층 (중동 1488-14) 할리스   \n",
              "454          신림점   서울 관악구                          서울특별시 관악구 신림로 353-1   \n",
              "455         태평로점    서울 중구  서울특별시 중구 세종대로 64, 해남빌딩 1층 (태평로2가 70-5) 할리스.   \n",
              "456          신촌점  서울 서대문구           서울특별시 서대문구 연세로 34 (창천동 31-12)  할리스   \n",
              "\n",
              "             phone  \n",
              "0     051-629-7419  \n",
              "1     031-635-6655  \n",
              "2             None  \n",
              "3             None  \n",
              "4    064-799-1137   \n",
              "..             ...  \n",
              "452   02-6204-1234  \n",
              "453   051-731-3410  \n",
              "454    02-877-0019  \n",
              "455    02-755-7795  \n",
              "456    02-393-2004  \n",
              "\n",
              "[457 rows x 4 columns]"
            ],
            "text/html": [
              "\n",
              "  <div id=\"df-5d043bd2-0973-47e0-8833-9dc7826f76b3\" class=\"colab-df-container\">\n",
              "    <div>\n",
              "<style scoped>\n",
              "    .dataframe tbody tr th:only-of-type {\n",
              "        vertical-align: middle;\n",
              "    }\n",
              "\n",
              "    .dataframe tbody tr th {\n",
              "        vertical-align: top;\n",
              "    }\n",
              "\n",
              "    .dataframe thead th {\n",
              "        text-align: right;\n",
              "    }\n",
              "</style>\n",
              "<table border=\"1\" class=\"dataframe\">\n",
              "  <thead>\n",
              "    <tr style=\"text-align: right;\">\n",
              "      <th></th>\n",
              "      <th>store</th>\n",
              "      <th>sido-gu</th>\n",
              "      <th>address</th>\n",
              "      <th>phone</th>\n",
              "    </tr>\n",
              "  </thead>\n",
              "  <tbody>\n",
              "    <tr>\n",
              "      <th>0</th>\n",
              "      <td>국립부경대청운관점</td>\n",
              "      <td>부산 남구</td>\n",
              "      <td>부산광역시 남구 용소로 45 (대연동, 국립부경대학교대연캠퍼스) 청운관 1층</td>\n",
              "      <td>051-629-7419</td>\n",
              "    </tr>\n",
              "    <tr>\n",
              "      <th>1</th>\n",
              "      <td>이천점</td>\n",
              "      <td>경기 이천시</td>\n",
              "      <td>경기도 이천시 어재연로 35, 1~3층 (창전동 160-25)</td>\n",
              "      <td>031-635-6655</td>\n",
              "    </tr>\n",
              "    <tr>\n",
              "      <th>2</th>\n",
              "      <td>(하)정안알밤휴게소점</td>\n",
              "      <td>충남 공주시</td>\n",
              "      <td>충청남도 공주시 정안면 논산천안고속도로 57 (정안하행휴게소) .</td>\n",
              "      <td>None</td>\n",
              "    </tr>\n",
              "    <tr>\n",
              "      <th>3</th>\n",
              "      <td>(상)정안알밤휴게소점</td>\n",
              "      <td>충남 공주시</td>\n",
              "      <td>충청남도 공주시 정안면 논산천안고속도로 58 (정안상행휴게소) .</td>\n",
              "      <td>None</td>\n",
              "    </tr>\n",
              "    <tr>\n",
              "      <th>4</th>\n",
              "      <td>제주곽지해수욕장점</td>\n",
              "      <td>제주 제주시</td>\n",
              "      <td>제주특별자치도 제주시 애월읍 곽지3길 27-1 2~3층</td>\n",
              "      <td>064-799-1137</td>\n",
              "    </tr>\n",
              "    <tr>\n",
              "      <th>...</th>\n",
              "      <td>...</td>\n",
              "      <td>...</td>\n",
              "      <td>...</td>\n",
              "      <td>...</td>\n",
              "    </tr>\n",
              "    <tr>\n",
              "      <th>452</th>\n",
              "      <td>합정역점</td>\n",
              "      <td>서울 마포구</td>\n",
              "      <td>서울특별시 마포구 양화로 36 (합정동 374-1) 할리스</td>\n",
              "      <td>02-6204-1234</td>\n",
              "    </tr>\n",
              "    <tr>\n",
              "      <th>453</th>\n",
              "      <td>부산달맞이점</td>\n",
              "      <td>부산 해운대구</td>\n",
              "      <td>부산광역시 해운대구 달맞이길 199, 2~3층 (중동 1488-14) 할리스</td>\n",
              "      <td>051-731-3410</td>\n",
              "    </tr>\n",
              "    <tr>\n",
              "      <th>454</th>\n",
              "      <td>신림점</td>\n",
              "      <td>서울 관악구</td>\n",
              "      <td>서울특별시 관악구 신림로 353-1</td>\n",
              "      <td>02-877-0019</td>\n",
              "    </tr>\n",
              "    <tr>\n",
              "      <th>455</th>\n",
              "      <td>태평로점</td>\n",
              "      <td>서울 중구</td>\n",
              "      <td>서울특별시 중구 세종대로 64, 해남빌딩 1층 (태평로2가 70-5) 할리스.</td>\n",
              "      <td>02-755-7795</td>\n",
              "    </tr>\n",
              "    <tr>\n",
              "      <th>456</th>\n",
              "      <td>신촌점</td>\n",
              "      <td>서울 서대문구</td>\n",
              "      <td>서울특별시 서대문구 연세로 34 (창천동 31-12)  할리스</td>\n",
              "      <td>02-393-2004</td>\n",
              "    </tr>\n",
              "  </tbody>\n",
              "</table>\n",
              "<p>457 rows × 4 columns</p>\n",
              "</div>\n",
              "    <div class=\"colab-df-buttons\">\n",
              "\n",
              "  <div class=\"colab-df-container\">\n",
              "    <button class=\"colab-df-convert\" onclick=\"convertToInteractive('df-5d043bd2-0973-47e0-8833-9dc7826f76b3')\"\n",
              "            title=\"Convert this dataframe to an interactive table.\"\n",
              "            style=\"display:none;\">\n",
              "\n",
              "  <svg xmlns=\"http://www.w3.org/2000/svg\" height=\"24px\" viewBox=\"0 -960 960 960\">\n",
              "    <path d=\"M120-120v-720h720v720H120Zm60-500h600v-160H180v160Zm220 220h160v-160H400v160Zm0 220h160v-160H400v160ZM180-400h160v-160H180v160Zm440 0h160v-160H620v160ZM180-180h160v-160H180v160Zm440 0h160v-160H620v160Z\"/>\n",
              "  </svg>\n",
              "    </button>\n",
              "\n",
              "  <style>\n",
              "    .colab-df-container {\n",
              "      display:flex;\n",
              "      gap: 12px;\n",
              "    }\n",
              "\n",
              "    .colab-df-convert {\n",
              "      background-color: #E8F0FE;\n",
              "      border: none;\n",
              "      border-radius: 50%;\n",
              "      cursor: pointer;\n",
              "      display: none;\n",
              "      fill: #1967D2;\n",
              "      height: 32px;\n",
              "      padding: 0 0 0 0;\n",
              "      width: 32px;\n",
              "    }\n",
              "\n",
              "    .colab-df-convert:hover {\n",
              "      background-color: #E2EBFA;\n",
              "      box-shadow: 0px 1px 2px rgba(60, 64, 67, 0.3), 0px 1px 3px 1px rgba(60, 64, 67, 0.15);\n",
              "      fill: #174EA6;\n",
              "    }\n",
              "\n",
              "    .colab-df-buttons div {\n",
              "      margin-bottom: 4px;\n",
              "    }\n",
              "\n",
              "    [theme=dark] .colab-df-convert {\n",
              "      background-color: #3B4455;\n",
              "      fill: #D2E3FC;\n",
              "    }\n",
              "\n",
              "    [theme=dark] .colab-df-convert:hover {\n",
              "      background-color: #434B5C;\n",
              "      box-shadow: 0px 1px 3px 1px rgba(0, 0, 0, 0.15);\n",
              "      filter: drop-shadow(0px 1px 2px rgba(0, 0, 0, 0.3));\n",
              "      fill: #FFFFFF;\n",
              "    }\n",
              "  </style>\n",
              "\n",
              "    <script>\n",
              "      const buttonEl =\n",
              "        document.querySelector('#df-5d043bd2-0973-47e0-8833-9dc7826f76b3 button.colab-df-convert');\n",
              "      buttonEl.style.display =\n",
              "        google.colab.kernel.accessAllowed ? 'block' : 'none';\n",
              "\n",
              "      async function convertToInteractive(key) {\n",
              "        const element = document.querySelector('#df-5d043bd2-0973-47e0-8833-9dc7826f76b3');\n",
              "        const dataTable =\n",
              "          await google.colab.kernel.invokeFunction('convertToInteractive',\n",
              "                                                    [key], {});\n",
              "        if (!dataTable) return;\n",
              "\n",
              "        const docLinkHtml = 'Like what you see? Visit the ' +\n",
              "          '<a target=\"_blank\" href=https://colab.research.google.com/notebooks/data_table.ipynb>data table notebook</a>'\n",
              "          + ' to learn more about interactive tables.';\n",
              "        element.innerHTML = '';\n",
              "        dataTable['output_type'] = 'display_data';\n",
              "        await google.colab.output.renderOutput(dataTable, element);\n",
              "        const docLink = document.createElement('div');\n",
              "        docLink.innerHTML = docLinkHtml;\n",
              "        element.appendChild(docLink);\n",
              "      }\n",
              "    </script>\n",
              "  </div>\n",
              "\n",
              "\n",
              "    <div id=\"df-ee6fd688-4484-444e-8dfd-700dd374a1e3\">\n",
              "      <button class=\"colab-df-quickchart\" onclick=\"quickchart('df-ee6fd688-4484-444e-8dfd-700dd374a1e3')\"\n",
              "                title=\"Suggest charts\"\n",
              "                style=\"display:none;\">\n",
              "\n",
              "<svg xmlns=\"http://www.w3.org/2000/svg\" height=\"24px\"viewBox=\"0 0 24 24\"\n",
              "     width=\"24px\">\n",
              "    <g>\n",
              "        <path d=\"M19 3H5c-1.1 0-2 .9-2 2v14c0 1.1.9 2 2 2h14c1.1 0 2-.9 2-2V5c0-1.1-.9-2-2-2zM9 17H7v-7h2v7zm4 0h-2V7h2v10zm4 0h-2v-4h2v4z\"/>\n",
              "    </g>\n",
              "</svg>\n",
              "      </button>\n",
              "\n",
              "<style>\n",
              "  .colab-df-quickchart {\n",
              "      --bg-color: #E8F0FE;\n",
              "      --fill-color: #1967D2;\n",
              "      --hover-bg-color: #E2EBFA;\n",
              "      --hover-fill-color: #174EA6;\n",
              "      --disabled-fill-color: #AAA;\n",
              "      --disabled-bg-color: #DDD;\n",
              "  }\n",
              "\n",
              "  [theme=dark] .colab-df-quickchart {\n",
              "      --bg-color: #3B4455;\n",
              "      --fill-color: #D2E3FC;\n",
              "      --hover-bg-color: #434B5C;\n",
              "      --hover-fill-color: #FFFFFF;\n",
              "      --disabled-bg-color: #3B4455;\n",
              "      --disabled-fill-color: #666;\n",
              "  }\n",
              "\n",
              "  .colab-df-quickchart {\n",
              "    background-color: var(--bg-color);\n",
              "    border: none;\n",
              "    border-radius: 50%;\n",
              "    cursor: pointer;\n",
              "    display: none;\n",
              "    fill: var(--fill-color);\n",
              "    height: 32px;\n",
              "    padding: 0;\n",
              "    width: 32px;\n",
              "  }\n",
              "\n",
              "  .colab-df-quickchart:hover {\n",
              "    background-color: var(--hover-bg-color);\n",
              "    box-shadow: 0 1px 2px rgba(60, 64, 67, 0.3), 0 1px 3px 1px rgba(60, 64, 67, 0.15);\n",
              "    fill: var(--button-hover-fill-color);\n",
              "  }\n",
              "\n",
              "  .colab-df-quickchart-complete:disabled,\n",
              "  .colab-df-quickchart-complete:disabled:hover {\n",
              "    background-color: var(--disabled-bg-color);\n",
              "    fill: var(--disabled-fill-color);\n",
              "    box-shadow: none;\n",
              "  }\n",
              "\n",
              "  .colab-df-spinner {\n",
              "    border: 2px solid var(--fill-color);\n",
              "    border-color: transparent;\n",
              "    border-bottom-color: var(--fill-color);\n",
              "    animation:\n",
              "      spin 1s steps(1) infinite;\n",
              "  }\n",
              "\n",
              "  @keyframes spin {\n",
              "    0% {\n",
              "      border-color: transparent;\n",
              "      border-bottom-color: var(--fill-color);\n",
              "      border-left-color: var(--fill-color);\n",
              "    }\n",
              "    20% {\n",
              "      border-color: transparent;\n",
              "      border-left-color: var(--fill-color);\n",
              "      border-top-color: var(--fill-color);\n",
              "    }\n",
              "    30% {\n",
              "      border-color: transparent;\n",
              "      border-left-color: var(--fill-color);\n",
              "      border-top-color: var(--fill-color);\n",
              "      border-right-color: var(--fill-color);\n",
              "    }\n",
              "    40% {\n",
              "      border-color: transparent;\n",
              "      border-right-color: var(--fill-color);\n",
              "      border-top-color: var(--fill-color);\n",
              "    }\n",
              "    60% {\n",
              "      border-color: transparent;\n",
              "      border-right-color: var(--fill-color);\n",
              "    }\n",
              "    80% {\n",
              "      border-color: transparent;\n",
              "      border-right-color: var(--fill-color);\n",
              "      border-bottom-color: var(--fill-color);\n",
              "    }\n",
              "    90% {\n",
              "      border-color: transparent;\n",
              "      border-bottom-color: var(--fill-color);\n",
              "    }\n",
              "  }\n",
              "</style>\n",
              "\n",
              "      <script>\n",
              "        async function quickchart(key) {\n",
              "          const quickchartButtonEl =\n",
              "            document.querySelector('#' + key + ' button');\n",
              "          quickchartButtonEl.disabled = true;  // To prevent multiple clicks.\n",
              "          quickchartButtonEl.classList.add('colab-df-spinner');\n",
              "          try {\n",
              "            const charts = await google.colab.kernel.invokeFunction(\n",
              "                'suggestCharts', [key], {});\n",
              "          } catch (error) {\n",
              "            console.error('Error during call to suggestCharts:', error);\n",
              "          }\n",
              "          quickchartButtonEl.classList.remove('colab-df-spinner');\n",
              "          quickchartButtonEl.classList.add('colab-df-quickchart-complete');\n",
              "        }\n",
              "        (() => {\n",
              "          let quickchartButtonEl =\n",
              "            document.querySelector('#df-ee6fd688-4484-444e-8dfd-700dd374a1e3 button');\n",
              "          quickchartButtonEl.style.display =\n",
              "            google.colab.kernel.accessAllowed ? 'block' : 'none';\n",
              "        })();\n",
              "      </script>\n",
              "    </div>\n",
              "\n",
              "  <div id=\"id_11ab9933-5d9c-463e-b00f-db6f4050424b\">\n",
              "    <style>\n",
              "      .colab-df-generate {\n",
              "        background-color: #E8F0FE;\n",
              "        border: none;\n",
              "        border-radius: 50%;\n",
              "        cursor: pointer;\n",
              "        display: none;\n",
              "        fill: #1967D2;\n",
              "        height: 32px;\n",
              "        padding: 0 0 0 0;\n",
              "        width: 32px;\n",
              "      }\n",
              "\n",
              "      .colab-df-generate:hover {\n",
              "        background-color: #E2EBFA;\n",
              "        box-shadow: 0px 1px 2px rgba(60, 64, 67, 0.3), 0px 1px 3px 1px rgba(60, 64, 67, 0.15);\n",
              "        fill: #174EA6;\n",
              "      }\n",
              "\n",
              "      [theme=dark] .colab-df-generate {\n",
              "        background-color: #3B4455;\n",
              "        fill: #D2E3FC;\n",
              "      }\n",
              "\n",
              "      [theme=dark] .colab-df-generate:hover {\n",
              "        background-color: #434B5C;\n",
              "        box-shadow: 0px 1px 3px 1px rgba(0, 0, 0, 0.15);\n",
              "        filter: drop-shadow(0px 1px 2px rgba(0, 0, 0, 0.3));\n",
              "        fill: #FFFFFF;\n",
              "      }\n",
              "    </style>\n",
              "    <button class=\"colab-df-generate\" onclick=\"generateWithVariable('hollys_tbl')\"\n",
              "            title=\"Generate code using this dataframe.\"\n",
              "            style=\"display:none;\">\n",
              "\n",
              "  <svg xmlns=\"http://www.w3.org/2000/svg\" height=\"24px\"viewBox=\"0 0 24 24\"\n",
              "       width=\"24px\">\n",
              "    <path d=\"M7,19H8.4L18.45,9,17,7.55,7,17.6ZM5,21V16.75L18.45,3.32a2,2,0,0,1,2.83,0l1.4,1.43a1.91,1.91,0,0,1,.58,1.4,1.91,1.91,0,0,1-.58,1.4L9.25,21ZM18.45,9,17,7.55Zm-12,3A5.31,5.31,0,0,0,4.9,8.1,5.31,5.31,0,0,0,1,6.5,5.31,5.31,0,0,0,4.9,4.9,5.31,5.31,0,0,0,6.5,1,5.31,5.31,0,0,0,8.1,4.9,5.31,5.31,0,0,0,12,6.5,5.46,5.46,0,0,0,6.5,12Z\"/>\n",
              "  </svg>\n",
              "    </button>\n",
              "    <script>\n",
              "      (() => {\n",
              "      const buttonEl =\n",
              "        document.querySelector('#id_11ab9933-5d9c-463e-b00f-db6f4050424b button.colab-df-generate');\n",
              "      buttonEl.style.display =\n",
              "        google.colab.kernel.accessAllowed ? 'block' : 'none';\n",
              "\n",
              "      buttonEl.onclick = () => {\n",
              "        google.colab.notebook.generateWithVariable('hollys_tbl');\n",
              "      }\n",
              "      })();\n",
              "    </script>\n",
              "  </div>\n",
              "\n",
              "    </div>\n",
              "  </div>\n"
            ],
            "application/vnd.google.colaboratory.intrinsic+json": {
              "type": "dataframe",
              "variable_name": "hollys_tbl",
              "summary": "{\n  \"name\": \"hollys_tbl\",\n  \"rows\": 457,\n  \"fields\": [\n    {\n      \"column\": \"store\",\n      \"properties\": {\n        \"dtype\": \"string\",\n        \"num_unique_values\": 457,\n        \"samples\": [\n          \"\\ubd80\\uc0b0\\uba85\\ub95c\\uc5ed\\uc810\",\n          \"\\ud30c\\ub974\\ub098\\uc2a4\\ubab0\\uc810\",\n          \"(\\ud558)\\uc7a5\\uc548\\ud734\\uac8c\\uc18c\\uc810\"\n        ],\n        \"semantic_type\": \"\",\n        \"description\": \"\"\n      }\n    },\n    {\n      \"column\": \"sido-gu\",\n      \"properties\": {\n        \"dtype\": \"category\",\n        \"num_unique_values\": 160,\n        \"samples\": [\n          \"\\uacbd\\uae30 \\uae40\\ud3ec\\uc2dc\",\n          \"\\uacbd\\ubd81 \\uc131\\uc8fc\\uad70\",\n          \"\\uc804\\ub0a8 \\ubcf4\\uc131\\uad70\"\n        ],\n        \"semantic_type\": \"\",\n        \"description\": \"\"\n      }\n    },\n    {\n      \"column\": \"address\",\n      \"properties\": {\n        \"dtype\": \"string\",\n        \"num_unique_values\": 457,\n        \"samples\": [\n          \"\\ubd80\\uc0b0\\uad11\\uc5ed\\uc2dc \\ub3d9\\ub798\\uad6c \\uc628\\ucc9c\\uc7a5\\ub85c 5,1\\uce35 \\uc628\\ucc9c\\ub3d9 473-10\",\n          \"\\uc11c\\uc6b8\\ud2b9\\ubcc4\\uc2dc \\uac15\\ub0a8\\uad6c \\ud14c\\ud5e4\\ub780\\ub85c 521 (\\uc0bc\\uc131\\ub3d9, \\ud30c\\ub974\\ub098\\uc2a4\\ud0c0\\uc6cc) \\ud30c\\ub974\\ub098\\uc2a4\\ubab0 \\ub0b4 B1\\uce35 F-3a\\ud638\",\n          \"\\ubd80\\uc0b0\\uad11\\uc5ed\\uc2dc \\uae30\\uc7a5\\uad70 \\uc7a5\\uc548\\uc74d \\ub3d9\\ud574\\uace0\\uc18d\\ub3c4\\ub85c 25 (\\uc7a5\\uc548\\ud734\\uac8c\\uc18c\\ud558\\ud589) .\"\n        ],\n        \"semantic_type\": \"\",\n        \"description\": \"\"\n      }\n    },\n    {\n      \"column\": \"phone\",\n      \"properties\": {\n        \"dtype\": \"string\",\n        \"num_unique_values\": 433,\n        \"samples\": [\n          \"02-720-5582\",\n          \"042-522-3141\",\n          \"051-715-2200\"\n        ],\n        \"semantic_type\": \"\",\n        \"description\": \"\"\n      }\n    }\n  ]\n}"
            }
          },
          "metadata": {},
          "execution_count": 88
        }
      ]
    },
    {
      "cell_type": "code",
      "source": [
        "hollys_tbl.to_csv('./hollys.csv', encoding=\"cp949\", mode=\"w\", index=True)"
      ],
      "metadata": {
        "id": "tn8kA0IgMDw5"
      },
      "execution_count": 89,
      "outputs": []
    },
    {
      "cell_type": "markdown",
      "source": [
        "## 4. 파이썬 파일로 만들어서 크롤링하기"
      ],
      "metadata": {
        "id": "OZ-Khn-OPNb5"
      }
    },
    {
      "cell_type": "code",
      "source": [
        "# hollys_crawler.py\n",
        "\n",
        "from bs4 import BeautifulSoup\n",
        "import urllib.request\n",
        "import pandas as pd\n",
        "import datetime\n",
        "\n",
        "def hollys_store(result):\n",
        "    for page in range(1, 51):\n",
        "        hollys_url = 'https://www.hollys.co.kr/store/korea/korStore2.do?pageNo=%d&sido=&gugun=&store=' %page\n",
        "        print(hollys_url)\n",
        "\n",
        "        html = urllib.request.urlopen(hollys_url)\n",
        "        soup_hollys = BeautifulSoup(html, 'html.parser')\n",
        "        tag_tbody = soup_hollys.find('tbody')\n",
        "        for store in tag_tbody.find_all('tr'):\n",
        "            if len(store) <= 3:\n",
        "                break\n",
        "            store_td = store.find_all('td')\n",
        "            store_name = store_td[1].string\n",
        "            store_sido = store_td[0].string\n",
        "            store_address = store_td[3].string\n",
        "            store_phone = store_td[5].string\n",
        "            result.append([store_name]+[store_sido]+[store_address]+[store_phone])\n",
        "    return result\n",
        "\n",
        "def main():\n",
        "    result = []\n",
        "    print('Hollys store crawling >>>>>>>>>>>>>>>>>>>>>>>>>>')\n",
        "    result = hollys_store(result)\n",
        "    hollys_tbl = pd.DataFrame(result, columns=('store', 'sido-gu', 'address', 'phone'))\n",
        "    hollys_tbl.to_csv('./hollys1.csv', encoding=\"cp949\", mode=\"w\", index=True)\n",
        "    print('파일 저장 완료 >>>>>>>>>>>>>>>>>>>>>>>>>>')\n",
        "\n",
        "if __name__ == '__main__':\n",
        "    main()"
      ],
      "metadata": {
        "id": "Sy2mcWt7PUMj",
        "colab": {
          "base_uri": "https://localhost:8080/"
        },
        "outputId": "5b7a262d-31d0-4468-9186-4a115083be9f"
      },
      "execution_count": 91,
      "outputs": [
        {
          "output_type": "stream",
          "name": "stdout",
          "text": [
            "Hollys store crawling >>>>>>>>>>>>>>>>>>>>>>>>>>\n",
            "https://www.hollys.co.kr/store/korea/korStore2.do?pageNo=1&sido=&gugun=&store=\n",
            "https://www.hollys.co.kr/store/korea/korStore2.do?pageNo=2&sido=&gugun=&store=\n",
            "https://www.hollys.co.kr/store/korea/korStore2.do?pageNo=3&sido=&gugun=&store=\n",
            "https://www.hollys.co.kr/store/korea/korStore2.do?pageNo=4&sido=&gugun=&store=\n",
            "https://www.hollys.co.kr/store/korea/korStore2.do?pageNo=5&sido=&gugun=&store=\n",
            "https://www.hollys.co.kr/store/korea/korStore2.do?pageNo=6&sido=&gugun=&store=\n",
            "https://www.hollys.co.kr/store/korea/korStore2.do?pageNo=7&sido=&gugun=&store=\n",
            "https://www.hollys.co.kr/store/korea/korStore2.do?pageNo=8&sido=&gugun=&store=\n",
            "https://www.hollys.co.kr/store/korea/korStore2.do?pageNo=9&sido=&gugun=&store=\n",
            "https://www.hollys.co.kr/store/korea/korStore2.do?pageNo=10&sido=&gugun=&store=\n",
            "https://www.hollys.co.kr/store/korea/korStore2.do?pageNo=11&sido=&gugun=&store=\n",
            "https://www.hollys.co.kr/store/korea/korStore2.do?pageNo=12&sido=&gugun=&store=\n",
            "https://www.hollys.co.kr/store/korea/korStore2.do?pageNo=13&sido=&gugun=&store=\n",
            "https://www.hollys.co.kr/store/korea/korStore2.do?pageNo=14&sido=&gugun=&store=\n",
            "https://www.hollys.co.kr/store/korea/korStore2.do?pageNo=15&sido=&gugun=&store=\n",
            "https://www.hollys.co.kr/store/korea/korStore2.do?pageNo=16&sido=&gugun=&store=\n",
            "https://www.hollys.co.kr/store/korea/korStore2.do?pageNo=17&sido=&gugun=&store=\n",
            "https://www.hollys.co.kr/store/korea/korStore2.do?pageNo=18&sido=&gugun=&store=\n",
            "https://www.hollys.co.kr/store/korea/korStore2.do?pageNo=19&sido=&gugun=&store=\n",
            "https://www.hollys.co.kr/store/korea/korStore2.do?pageNo=20&sido=&gugun=&store=\n",
            "https://www.hollys.co.kr/store/korea/korStore2.do?pageNo=21&sido=&gugun=&store=\n",
            "https://www.hollys.co.kr/store/korea/korStore2.do?pageNo=22&sido=&gugun=&store=\n",
            "https://www.hollys.co.kr/store/korea/korStore2.do?pageNo=23&sido=&gugun=&store=\n",
            "https://www.hollys.co.kr/store/korea/korStore2.do?pageNo=24&sido=&gugun=&store=\n",
            "https://www.hollys.co.kr/store/korea/korStore2.do?pageNo=25&sido=&gugun=&store=\n",
            "https://www.hollys.co.kr/store/korea/korStore2.do?pageNo=26&sido=&gugun=&store=\n",
            "https://www.hollys.co.kr/store/korea/korStore2.do?pageNo=27&sido=&gugun=&store=\n",
            "https://www.hollys.co.kr/store/korea/korStore2.do?pageNo=28&sido=&gugun=&store=\n",
            "https://www.hollys.co.kr/store/korea/korStore2.do?pageNo=29&sido=&gugun=&store=\n",
            "https://www.hollys.co.kr/store/korea/korStore2.do?pageNo=30&sido=&gugun=&store=\n",
            "https://www.hollys.co.kr/store/korea/korStore2.do?pageNo=31&sido=&gugun=&store=\n",
            "https://www.hollys.co.kr/store/korea/korStore2.do?pageNo=32&sido=&gugun=&store=\n",
            "https://www.hollys.co.kr/store/korea/korStore2.do?pageNo=33&sido=&gugun=&store=\n",
            "https://www.hollys.co.kr/store/korea/korStore2.do?pageNo=34&sido=&gugun=&store=\n",
            "https://www.hollys.co.kr/store/korea/korStore2.do?pageNo=35&sido=&gugun=&store=\n",
            "https://www.hollys.co.kr/store/korea/korStore2.do?pageNo=36&sido=&gugun=&store=\n",
            "https://www.hollys.co.kr/store/korea/korStore2.do?pageNo=37&sido=&gugun=&store=\n",
            "https://www.hollys.co.kr/store/korea/korStore2.do?pageNo=38&sido=&gugun=&store=\n",
            "https://www.hollys.co.kr/store/korea/korStore2.do?pageNo=39&sido=&gugun=&store=\n",
            "https://www.hollys.co.kr/store/korea/korStore2.do?pageNo=40&sido=&gugun=&store=\n",
            "https://www.hollys.co.kr/store/korea/korStore2.do?pageNo=41&sido=&gugun=&store=\n",
            "https://www.hollys.co.kr/store/korea/korStore2.do?pageNo=42&sido=&gugun=&store=\n",
            "https://www.hollys.co.kr/store/korea/korStore2.do?pageNo=43&sido=&gugun=&store=\n",
            "https://www.hollys.co.kr/store/korea/korStore2.do?pageNo=44&sido=&gugun=&store=\n",
            "https://www.hollys.co.kr/store/korea/korStore2.do?pageNo=45&sido=&gugun=&store=\n",
            "https://www.hollys.co.kr/store/korea/korStore2.do?pageNo=46&sido=&gugun=&store=\n",
            "https://www.hollys.co.kr/store/korea/korStore2.do?pageNo=47&sido=&gugun=&store=\n",
            "https://www.hollys.co.kr/store/korea/korStore2.do?pageNo=48&sido=&gugun=&store=\n",
            "https://www.hollys.co.kr/store/korea/korStore2.do?pageNo=49&sido=&gugun=&store=\n",
            "https://www.hollys.co.kr/store/korea/korStore2.do?pageNo=50&sido=&gugun=&store=\n",
            "파일 저장 완료 >>>>>>>>>>>>>>>>>>>>>>>>>>\n"
          ]
        }
      ]
    }
  ]
}